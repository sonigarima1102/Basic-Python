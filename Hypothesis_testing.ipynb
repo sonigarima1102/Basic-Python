{
 "cells": [
  {
   "cell_type": "markdown",
   "id": "496c0920",
   "metadata": {},
   "source": [
    "## One sample t-test"
   ]
  },
  {
   "cell_type": "markdown",
   "id": "65da74ed",
   "metadata": {},
   "source": [
    "1. 20 students were chosen to perform a surprise test. Can teacher be 95% confident that mean score for the class would be 70 ?\n",
    "marks are 60, 63, 66, 69, 72, 75, 78, 81, 84, 65, 67, 69, 71, 73, 75, 77, 79,72, 77, 82"
   ]
  },
  {
   "cell_type": "code",
   "execution_count": 1,
   "id": "1a44b80d",
   "metadata": {},
   "outputs": [],
   "source": [
    "import numpy as np\n",
    "marks = [60, 63, 66, 69, 72, 75, 78, 81, 84, 65, 67, 69, 71, 73, 75, 77, 79,72, 77, 82]"
   ]
  },
  {
   "cell_type": "markdown",
   "id": "f192560d",
   "metadata": {},
   "source": [
    "- Null H : mean = 70 \n",
    "- Alter H : mean != 70                     # two tailed t test"
   ]
  },
  {
   "cell_type": "code",
   "execution_count": 2,
   "id": "4a6d7606",
   "metadata": {
    "scrolled": true
   },
   "outputs": [
    {
     "data": {
      "text/plain": [
       "(1.8700561025246263, 0.07696460762867534)"
      ]
     },
     "execution_count": 2,
     "metadata": {},
     "output_type": "execute_result"
    }
   ],
   "source": [
    "from scipy import stats\n",
    "t_val, p_val = stats.ttest_1samp(marks, popmean = 70)\n",
    "t_val, p_val"
   ]
  },
  {
   "cell_type": "code",
   "execution_count": 3,
   "id": "b0a4057f",
   "metadata": {},
   "outputs": [],
   "source": [
    "p_val = p_val/2"
   ]
  },
  {
   "cell_type": "code",
   "execution_count": 4,
   "id": "ccaa33aa",
   "metadata": {},
   "outputs": [
    {
     "name": "stdout",
     "output_type": "stream",
     "text": [
      "we reject the null hypothesis, there is significant difference between average class marks and average marks scored by 20 students sample\n"
     ]
    }
   ],
   "source": [
    "if p_val < 0.05:\n",
    "    print(\"we reject the null hypothesis, there is significant difference between average class marks and average marks scored by 20 students sample\")\n",
    "else:\n",
    "    print(\"we do not reject the null hypothesis, there is no significant difference between average class marks and average marks scored by 20 students sample\")"
   ]
  },
  {
   "cell_type": "markdown",
   "id": "9df247b7",
   "metadata": {},
   "source": [
    "-----------------------------------------------------------------------------------------------------------------------------"
   ]
  },
  {
   "cell_type": "markdown",
   "id": "e7402bf5",
   "metadata": {},
   "source": [
    "2. We have the potato yield from 12 different farms. We know that the standard potato yield for the given variety is µ=20.\n",
    "x = [21.5, 24.5, 18.5, 17.2, 14.5, 23.2, 22.1, 20.5, 19.4, 18.1, 24.1, 18.5] \n",
    "Test if the potato yield from these farms is significantly better than the standard yield."
   ]
  },
  {
   "cell_type": "code",
   "execution_count": 5,
   "id": "17385b1d",
   "metadata": {},
   "outputs": [],
   "source": [
    "x = [21.5, 24.5, 18.5, 17.2, 14.5, 23.2, 22.1, 20.5, 19.4, 18.1, 24.1, 18.5]"
   ]
  },
  {
   "cell_type": "markdown",
   "id": "b2a7705a",
   "metadata": {},
   "source": [
    "- Null H : mean = 20\n",
    "- Alter H : mean > 20"
   ]
  },
  {
   "cell_type": "code",
   "execution_count": 6,
   "id": "e8e95162",
   "metadata": {},
   "outputs": [
    {
     "data": {
      "text/plain": [
       "20.175"
      ]
     },
     "execution_count": 6,
     "metadata": {},
     "output_type": "execute_result"
    }
   ],
   "source": [
    "np.mean(x)"
   ]
  },
  {
   "cell_type": "code",
   "execution_count": 7,
   "id": "3b82454b",
   "metadata": {},
   "outputs": [
    {
     "data": {
      "text/plain": [
       "(0.2006562773994862, 0.8446291893053613)"
      ]
     },
     "execution_count": 7,
     "metadata": {},
     "output_type": "execute_result"
    }
   ],
   "source": [
    "t_val, p_val = stats.ttest_1samp(x, popmean = 20)\n",
    "t_val, p_val"
   ]
  },
  {
   "cell_type": "code",
   "execution_count": 8,
   "id": "d6b485ee",
   "metadata": {},
   "outputs": [
    {
     "name": "stdout",
     "output_type": "stream",
     "text": [
      "we do not reject the null hypothesis, there is no significant difference between average standard potato yield and average sample standard potato yield\n"
     ]
    }
   ],
   "source": [
    "if p_val < 0.05:\n",
    "    print(\"we reject the null hypothesis, there is significant difference between average standard potato yield and average sample standard potato yield\")\n",
    "else:\n",
    "    print(\"we do not reject the null hypothesis, there is no significant difference between average standard potato yield and average sample standard potato yield\")"
   ]
  },
  {
   "cell_type": "markdown",
   "id": "23a4418f",
   "metadata": {},
   "source": [
    "-------------------------------------------------------------------------------------------------------------------------------"
   ]
  },
  {
   "cell_type": "markdown",
   "id": "55bcd5ae",
   "metadata": {},
   "source": [
    "## Two sample t-test"
   ]
  },
  {
   "cell_type": "markdown",
   "id": "fa77aa75",
   "metadata": {},
   "source": [
    "1. Compare the effectiveness of ammonium chloride and urea, on the grain yield of paddy, an experiment was conducted. The results are given below:\n",
    "\n",
    "- Ammonium_chloride=[13.4,10.9,11.2,11.8,14,15.3,14.2,12.6,17,16.2,16.5,15.7]\n",
    "- Urea=[12,11.7,10.7,11.2,14.8,14.4,13.9,13.7,16.9,16,15.6,16]"
   ]
  },
  {
   "cell_type": "code",
   "execution_count": 9,
   "id": "4e5344ce",
   "metadata": {},
   "outputs": [],
   "source": [
    "ammonium_chloride=[13.4,10.9,11.2,11.8,14,15.3,14.2,12.6,17,16.2,16.5,15.7]\n",
    "urea=[12,11.7,10.7,11.2,14.8,14.4,13.9,13.7,16.9,16,15.6,16]"
   ]
  },
  {
   "cell_type": "markdown",
   "id": "e00eb241",
   "metadata": {},
   "source": [
    "- Null H = effect of ammonium chloride and urea are same => mean1 = mean2\n",
    "- Alter H = effect of ammonium chloride and urea are not same => mean1 != mean2"
   ]
  },
  {
   "cell_type": "code",
   "execution_count": 10,
   "id": "07a14f61",
   "metadata": {},
   "outputs": [
    {
     "data": {
      "text/plain": [
       "(0.1846496543760765, 0.8551954147800473)"
      ]
     },
     "execution_count": 10,
     "metadata": {},
     "output_type": "execute_result"
    }
   ],
   "source": [
    "t_val, p_val = stats.ttest_ind(a = ammonium_chloride, b = urea)\n",
    "t_val, p_val"
   ]
  },
  {
   "cell_type": "code",
   "execution_count": 11,
   "id": "7c715a7f",
   "metadata": {},
   "outputs": [],
   "source": [
    "p_val = p_val/2                                    # two tailed t test"
   ]
  },
  {
   "cell_type": "code",
   "execution_count": 12,
   "id": "66f041ea",
   "metadata": {},
   "outputs": [
    {
     "data": {
      "text/plain": [
       "0.4275977073900237"
      ]
     },
     "execution_count": 12,
     "metadata": {},
     "output_type": "execute_result"
    }
   ],
   "source": [
    "p_val"
   ]
  },
  {
   "cell_type": "code",
   "execution_count": 13,
   "id": "ea4be347",
   "metadata": {},
   "outputs": [
    {
     "name": "stdout",
     "output_type": "stream",
     "text": [
      "we do not reject the null hypothesis, there is no significant difference between average effectiveness of ammonium chloride and urea\n"
     ]
    }
   ],
   "source": [
    "if p_val < 0.05:\n",
    "    print(\"we reject the null hypothesis, there is significant difference between average effectiveness of ammonium chloride and urea\")\n",
    "else:\n",
    "    print(\"we do not reject the null hypothesis, there is no significant difference between average effectiveness of ammonium chloride and urea\")"
   ]
  },
  {
   "cell_type": "code",
   "execution_count": 14,
   "id": "d9154ac1",
   "metadata": {},
   "outputs": [
    {
     "data": {
      "text/plain": [
       "14.066666666666665"
      ]
     },
     "execution_count": 14,
     "metadata": {},
     "output_type": "execute_result"
    }
   ],
   "source": [
    "np.mean(ammonium_chloride)"
   ]
  },
  {
   "cell_type": "code",
   "execution_count": 15,
   "id": "91a2393a",
   "metadata": {},
   "outputs": [
    {
     "data": {
      "text/plain": [
       "13.908333333333333"
      ]
     },
     "execution_count": 15,
     "metadata": {},
     "output_type": "execute_result"
    }
   ],
   "source": [
    "np.mean(urea)"
   ]
  },
  {
   "cell_type": "markdown",
   "id": "b07684f5",
   "metadata": {},
   "source": [
    "------------------------------------------------------------------------------------------------------------------------------"
   ]
  },
  {
   "cell_type": "markdown",
   "id": "2c16bde8",
   "metadata": {},
   "source": [
    "2. A genetic engineering company claims that it has developed a genetically modified tomato plant that yields on average more tomatoes than other varieties. Ten genetically modified tomato plants are grown from seeds along with ten other tomato plants. At the season’s end, the resulting yields in pound are recorded as below.\n",
    "\n",
    "genetically_modified :20,23,27,25,25,25,27,23,24,22\n",
    "regular:21,21,22,18,20,20,18,25,23,20\n",
    "\n",
    "Test, at the 1% level of significance, whether the data provide sufficient evidence to conclude that the mean yield of the genetically modified variety is greater than that for the standard variety."
   ]
  },
  {
   "cell_type": "code",
   "execution_count": 16,
   "id": "936ff8f0",
   "metadata": {},
   "outputs": [],
   "source": [
    "gen_modified = [20,23,27,25,25,25,27,23,24,22]\n",
    "regular = [21,21,22,18,20,20,18,25,23,20]"
   ]
  },
  {
   "cell_type": "markdown",
   "id": "99efb478",
   "metadata": {},
   "source": [
    "- Null H : mean yield of the genetically modified variety is not greater than that for the standard variety,  (mean1=mean2)\n",
    "- Alter H : mean yield of the genetically modified variety is greater than that for the standard variety,  (mean1>mean2)"
   ]
  },
  {
   "cell_type": "code",
   "execution_count": 17,
   "id": "93a1481c",
   "metadata": {},
   "outputs": [
    {
     "data": {
      "text/plain": [
       "(3.405703534961219, 0.0031514458525365788)"
      ]
     },
     "execution_count": 17,
     "metadata": {},
     "output_type": "execute_result"
    }
   ],
   "source": [
    "t_val, p_val = stats.ttest_ind(a = gen_modified, b = regular)\n",
    "t_val, p_val"
   ]
  },
  {
   "cell_type": "code",
   "execution_count": 18,
   "id": "d05fc724",
   "metadata": {},
   "outputs": [
    {
     "name": "stdout",
     "output_type": "stream",
     "text": [
      "we reject the null hypothesis, there is significant difference between mean yield of the genetically modified variety and for the standard variety\n"
     ]
    }
   ],
   "source": [
    "if p_val < 0.01:\n",
    "    print(\"we reject the null hypothesis, there is significant difference between mean yield of the genetically modified variety and for the standard variety\")\n",
    "else:\n",
    "    print(\"we do not reject the null hypothesis, there is no significant difference between mean yield of the genetically modified variety and for the standard variety\")"
   ]
  },
  {
   "cell_type": "code",
   "execution_count": 19,
   "id": "f4e95965",
   "metadata": {},
   "outputs": [
    {
     "data": {
      "text/plain": [
       "24.1"
      ]
     },
     "execution_count": 19,
     "metadata": {},
     "output_type": "execute_result"
    }
   ],
   "source": [
    "np.mean(gen_modified)"
   ]
  },
  {
   "cell_type": "code",
   "execution_count": 20,
   "id": "7b23a00e",
   "metadata": {},
   "outputs": [
    {
     "data": {
      "text/plain": [
       "20.8"
      ]
     },
     "execution_count": 20,
     "metadata": {},
     "output_type": "execute_result"
    }
   ],
   "source": [
    "np.mean(regular)"
   ]
  },
  {
   "cell_type": "markdown",
   "id": "f19c5a25",
   "metadata": {},
   "source": [
    "------------------------------------------------------------------------------------------------------------------------------"
   ]
  },
  {
   "cell_type": "markdown",
   "id": "50817d84",
   "metadata": {},
   "source": [
    "## Paired t-test"
   ]
  },
  {
   "cell_type": "markdown",
   "id": "32e113aa",
   "metadata": {},
   "source": [
    "1. Eleven schoolboys were given a test in Statistics. They were given a Month’s tuition and a second test were held at the end of it. Do the marks give evidence that the students have benefited from the exam coaching?\n",
    "\n",
    "Marks in 1st test: 23 20 19 21 18 20 18 17 23 16 19\n",
    "\n",
    "Marks in 2nd test: 24 19 22 18 20 22 20 20 23 20 18"
   ]
  },
  {
   "cell_type": "code",
   "execution_count": 21,
   "id": "7e82f8c4",
   "metadata": {},
   "outputs": [],
   "source": [
    "first_test =[23, 20, 19, 21, 18, 20, 18, 17, 23, 16, 19]\n",
    "second_test=[24, 19, 22, 18, 20, 22, 20, 20, 23, 20, 18]"
   ]
  },
  {
   "cell_type": "markdown",
   "id": "96d1d1f5",
   "metadata": {},
   "source": [
    "- Null H: The students have not benefited from the tuition class.\n",
    "- Alter H: The students have benefited from the tuition class."
   ]
  },
  {
   "cell_type": "code",
   "execution_count": 22,
   "id": "3495d4a1",
   "metadata": {},
   "outputs": [],
   "source": [
    "t_val, p_val = stats.ttest_rel(a = first_test, b = second_test)"
   ]
  },
  {
   "cell_type": "code",
   "execution_count": 23,
   "id": "d64d6618",
   "metadata": {},
   "outputs": [
    {
     "name": "stdout",
     "output_type": "stream",
     "text": [
      "we do not reject the null hypothesis, there is no significant difference between average marks obtained in first test and second test, which shows the students have benefited from the tuition class\n"
     ]
    }
   ],
   "source": [
    "if p_val < 0.05:\n",
    "    print(\"we reject the null hypothesis, there is significant difference between average marks obtained in first test and second test, which shows the students have not benefited from the tuition class\")\n",
    "else:\n",
    "    print(\"we do not reject the null hypothesis, there is no significant difference between average marks obtained in first test and second test, which shows the students have benefited from the tuition class\")"
   ]
  },
  {
   "cell_type": "code",
   "execution_count": 24,
   "id": "94cf45e8",
   "metadata": {},
   "outputs": [
    {
     "data": {
      "text/plain": [
       "19.454545454545453"
      ]
     },
     "execution_count": 24,
     "metadata": {},
     "output_type": "execute_result"
    }
   ],
   "source": [
    "np.mean(first_test)"
   ]
  },
  {
   "cell_type": "code",
   "execution_count": 25,
   "id": "027824d4",
   "metadata": {},
   "outputs": [
    {
     "data": {
      "text/plain": [
       "20.545454545454547"
      ]
     },
     "execution_count": 25,
     "metadata": {},
     "output_type": "execute_result"
    }
   ],
   "source": [
    "np.mean(second_test)"
   ]
  },
  {
   "cell_type": "markdown",
   "id": "3baefab1",
   "metadata": {},
   "source": [
    "------------------------------------------------------------------------------------------------------------------------------"
   ]
  },
  {
   "cell_type": "markdown",
   "id": "488809a1",
   "metadata": {},
   "source": [
    "2. Each of five laboratory mice was released into a maze twice. The five pairs of times to escape were:\n",
    "- First release: 129\t89\t136\t163\t118\n",
    "- Second release\t113\t97\t139\t85\t75\n",
    "\n",
    "Test, at the 10% level of significance, the hypothesis that it takes mice less time to run the maze on the second trial, on average."
   ]
  },
  {
   "cell_type": "code",
   "execution_count": 26,
   "id": "b6d76373",
   "metadata": {},
   "outputs": [],
   "source": [
    "first_release = [129,89,136,163,118]\n",
    "second_release = [113,97,139,85,75]"
   ]
  },
  {
   "cell_type": "markdown",
   "id": "03301cb6",
   "metadata": {},
   "source": [
    "- Null H: the mice doesnt take less time on second trial.\n",
    "- Alter H: the mice takes less time on second trial."
   ]
  },
  {
   "cell_type": "code",
   "execution_count": 27,
   "id": "719b7992",
   "metadata": {},
   "outputs": [],
   "source": [
    "t_val, p_val = stats.ttest_rel(a = first_release, b = second_release)"
   ]
  },
  {
   "cell_type": "code",
   "execution_count": 28,
   "id": "0fa0e0e4",
   "metadata": {},
   "outputs": [
    {
     "name": "stdout",
     "output_type": "stream",
     "text": [
      "we do not reject the null hypothesis, there is no significant difference between average escape time in first and second release, which means the mice takes less time on second trial\n"
     ]
    }
   ],
   "source": [
    "if p_val < 0.1:\n",
    "    print(\"we reject the null hypothesis, there is significant difference between average escape time in first and second release, which means the mice doesnt take less time on second trial\")\n",
    "else:\n",
    "    print(\"we do not reject the null hypothesis, there is no significant difference between average escape time in first and second release, which means the mice takes less time on second trial\")"
   ]
  },
  {
   "cell_type": "code",
   "execution_count": 29,
   "id": "242f8b59",
   "metadata": {},
   "outputs": [
    {
     "data": {
      "text/plain": [
       "127.0"
      ]
     },
     "execution_count": 29,
     "metadata": {},
     "output_type": "execute_result"
    }
   ],
   "source": [
    "np.mean(first_release)"
   ]
  },
  {
   "cell_type": "code",
   "execution_count": 30,
   "id": "91d0e379",
   "metadata": {},
   "outputs": [
    {
     "data": {
      "text/plain": [
       "101.8"
      ]
     },
     "execution_count": 30,
     "metadata": {},
     "output_type": "execute_result"
    }
   ],
   "source": [
    "np.mean(second_release)"
   ]
  },
  {
   "cell_type": "markdown",
   "id": "4b82bbdf",
   "metadata": {},
   "source": [
    "-----------------------------------------------------------------------------------------------------------------------------"
   ]
  },
  {
   "cell_type": "markdown",
   "id": "abb357d8",
   "metadata": {},
   "source": [
    "## Chi-Square Test"
   ]
  },
  {
   "cell_type": "code",
   "execution_count": 31,
   "id": "d977a001",
   "metadata": {},
   "outputs": [],
   "source": [
    "import pandas as pd\n",
    "ins_data = pd.read_csv('insurance.csv')"
   ]
  },
  {
   "cell_type": "code",
   "execution_count": 32,
   "id": "ae17afd6",
   "metadata": {},
   "outputs": [
    {
     "data": {
      "text/html": [
       "<div>\n",
       "<style scoped>\n",
       "    .dataframe tbody tr th:only-of-type {\n",
       "        vertical-align: middle;\n",
       "    }\n",
       "\n",
       "    .dataframe tbody tr th {\n",
       "        vertical-align: top;\n",
       "    }\n",
       "\n",
       "    .dataframe thead th {\n",
       "        text-align: right;\n",
       "    }\n",
       "</style>\n",
       "<table border=\"1\" class=\"dataframe\">\n",
       "  <thead>\n",
       "    <tr style=\"text-align: right;\">\n",
       "      <th></th>\n",
       "      <th>age</th>\n",
       "      <th>sex</th>\n",
       "      <th>bmi</th>\n",
       "      <th>children</th>\n",
       "      <th>smoker</th>\n",
       "      <th>region</th>\n",
       "      <th>charges</th>\n",
       "    </tr>\n",
       "  </thead>\n",
       "  <tbody>\n",
       "    <tr>\n",
       "      <th>0</th>\n",
       "      <td>19</td>\n",
       "      <td>female</td>\n",
       "      <td>27.900</td>\n",
       "      <td>0</td>\n",
       "      <td>yes</td>\n",
       "      <td>southwest</td>\n",
       "      <td>16884.92400</td>\n",
       "    </tr>\n",
       "    <tr>\n",
       "      <th>1</th>\n",
       "      <td>18</td>\n",
       "      <td>male</td>\n",
       "      <td>33.770</td>\n",
       "      <td>1</td>\n",
       "      <td>no</td>\n",
       "      <td>southeast</td>\n",
       "      <td>1725.55230</td>\n",
       "    </tr>\n",
       "    <tr>\n",
       "      <th>2</th>\n",
       "      <td>28</td>\n",
       "      <td>male</td>\n",
       "      <td>33.000</td>\n",
       "      <td>3</td>\n",
       "      <td>no</td>\n",
       "      <td>southeast</td>\n",
       "      <td>4449.46200</td>\n",
       "    </tr>\n",
       "    <tr>\n",
       "      <th>3</th>\n",
       "      <td>33</td>\n",
       "      <td>male</td>\n",
       "      <td>22.705</td>\n",
       "      <td>0</td>\n",
       "      <td>no</td>\n",
       "      <td>northwest</td>\n",
       "      <td>21984.47061</td>\n",
       "    </tr>\n",
       "    <tr>\n",
       "      <th>4</th>\n",
       "      <td>32</td>\n",
       "      <td>male</td>\n",
       "      <td>28.880</td>\n",
       "      <td>0</td>\n",
       "      <td>no</td>\n",
       "      <td>northwest</td>\n",
       "      <td>3866.85520</td>\n",
       "    </tr>\n",
       "  </tbody>\n",
       "</table>\n",
       "</div>"
      ],
      "text/plain": [
       "   age     sex     bmi  children smoker     region      charges\n",
       "0   19  female  27.900         0    yes  southwest  16884.92400\n",
       "1   18    male  33.770         1     no  southeast   1725.55230\n",
       "2   28    male  33.000         3     no  southeast   4449.46200\n",
       "3   33    male  22.705         0     no  northwest  21984.47061\n",
       "4   32    male  28.880         0     no  northwest   3866.85520"
      ]
     },
     "execution_count": 32,
     "metadata": {},
     "output_type": "execute_result"
    }
   ],
   "source": [
    "ins_data.head()"
   ]
  },
  {
   "cell_type": "code",
   "execution_count": 33,
   "id": "93219300",
   "metadata": {},
   "outputs": [
    {
     "name": "stdout",
     "output_type": "stream",
     "text": [
      "<class 'pandas.core.frame.DataFrame'>\n",
      "RangeIndex: 1338 entries, 0 to 1337\n",
      "Data columns (total 7 columns):\n",
      " #   Column    Non-Null Count  Dtype  \n",
      "---  ------    --------------  -----  \n",
      " 0   age       1338 non-null   int64  \n",
      " 1   sex       1338 non-null   object \n",
      " 2   bmi       1338 non-null   float64\n",
      " 3   children  1338 non-null   int64  \n",
      " 4   smoker    1338 non-null   object \n",
      " 5   region    1338 non-null   object \n",
      " 6   charges   1338 non-null   float64\n",
      "dtypes: float64(2), int64(2), object(3)\n",
      "memory usage: 73.3+ KB\n"
     ]
    }
   ],
   "source": [
    "ins_data.info()"
   ]
  },
  {
   "cell_type": "code",
   "execution_count": 34,
   "id": "09cd81ea",
   "metadata": {},
   "outputs": [
    {
     "data": {
      "text/html": [
       "<div>\n",
       "<style scoped>\n",
       "    .dataframe tbody tr th:only-of-type {\n",
       "        vertical-align: middle;\n",
       "    }\n",
       "\n",
       "    .dataframe tbody tr th {\n",
       "        vertical-align: top;\n",
       "    }\n",
       "\n",
       "    .dataframe thead th {\n",
       "        text-align: right;\n",
       "    }\n",
       "</style>\n",
       "<table border=\"1\" class=\"dataframe\">\n",
       "  <thead>\n",
       "    <tr style=\"text-align: right;\">\n",
       "      <th></th>\n",
       "      <th>age</th>\n",
       "      <th>sex</th>\n",
       "      <th>bmi</th>\n",
       "      <th>children</th>\n",
       "      <th>smoker</th>\n",
       "      <th>region</th>\n",
       "      <th>charges</th>\n",
       "    </tr>\n",
       "  </thead>\n",
       "  <tbody>\n",
       "    <tr>\n",
       "      <th>count</th>\n",
       "      <td>1338.000000</td>\n",
       "      <td>1338</td>\n",
       "      <td>1338.000000</td>\n",
       "      <td>1338.000000</td>\n",
       "      <td>1338</td>\n",
       "      <td>1338</td>\n",
       "      <td>1338.000000</td>\n",
       "    </tr>\n",
       "    <tr>\n",
       "      <th>unique</th>\n",
       "      <td>NaN</td>\n",
       "      <td>2</td>\n",
       "      <td>NaN</td>\n",
       "      <td>NaN</td>\n",
       "      <td>2</td>\n",
       "      <td>4</td>\n",
       "      <td>NaN</td>\n",
       "    </tr>\n",
       "    <tr>\n",
       "      <th>top</th>\n",
       "      <td>NaN</td>\n",
       "      <td>male</td>\n",
       "      <td>NaN</td>\n",
       "      <td>NaN</td>\n",
       "      <td>no</td>\n",
       "      <td>southeast</td>\n",
       "      <td>NaN</td>\n",
       "    </tr>\n",
       "    <tr>\n",
       "      <th>freq</th>\n",
       "      <td>NaN</td>\n",
       "      <td>676</td>\n",
       "      <td>NaN</td>\n",
       "      <td>NaN</td>\n",
       "      <td>1064</td>\n",
       "      <td>364</td>\n",
       "      <td>NaN</td>\n",
       "    </tr>\n",
       "    <tr>\n",
       "      <th>mean</th>\n",
       "      <td>39.207025</td>\n",
       "      <td>NaN</td>\n",
       "      <td>30.663397</td>\n",
       "      <td>1.094918</td>\n",
       "      <td>NaN</td>\n",
       "      <td>NaN</td>\n",
       "      <td>13270.422265</td>\n",
       "    </tr>\n",
       "    <tr>\n",
       "      <th>std</th>\n",
       "      <td>14.049960</td>\n",
       "      <td>NaN</td>\n",
       "      <td>6.098187</td>\n",
       "      <td>1.205493</td>\n",
       "      <td>NaN</td>\n",
       "      <td>NaN</td>\n",
       "      <td>12110.011237</td>\n",
       "    </tr>\n",
       "    <tr>\n",
       "      <th>min</th>\n",
       "      <td>18.000000</td>\n",
       "      <td>NaN</td>\n",
       "      <td>15.960000</td>\n",
       "      <td>0.000000</td>\n",
       "      <td>NaN</td>\n",
       "      <td>NaN</td>\n",
       "      <td>1121.873900</td>\n",
       "    </tr>\n",
       "    <tr>\n",
       "      <th>25%</th>\n",
       "      <td>27.000000</td>\n",
       "      <td>NaN</td>\n",
       "      <td>26.296250</td>\n",
       "      <td>0.000000</td>\n",
       "      <td>NaN</td>\n",
       "      <td>NaN</td>\n",
       "      <td>4740.287150</td>\n",
       "    </tr>\n",
       "    <tr>\n",
       "      <th>50%</th>\n",
       "      <td>39.000000</td>\n",
       "      <td>NaN</td>\n",
       "      <td>30.400000</td>\n",
       "      <td>1.000000</td>\n",
       "      <td>NaN</td>\n",
       "      <td>NaN</td>\n",
       "      <td>9382.033000</td>\n",
       "    </tr>\n",
       "    <tr>\n",
       "      <th>75%</th>\n",
       "      <td>51.000000</td>\n",
       "      <td>NaN</td>\n",
       "      <td>34.693750</td>\n",
       "      <td>2.000000</td>\n",
       "      <td>NaN</td>\n",
       "      <td>NaN</td>\n",
       "      <td>16639.912515</td>\n",
       "    </tr>\n",
       "    <tr>\n",
       "      <th>max</th>\n",
       "      <td>64.000000</td>\n",
       "      <td>NaN</td>\n",
       "      <td>53.130000</td>\n",
       "      <td>5.000000</td>\n",
       "      <td>NaN</td>\n",
       "      <td>NaN</td>\n",
       "      <td>63770.428010</td>\n",
       "    </tr>\n",
       "  </tbody>\n",
       "</table>\n",
       "</div>"
      ],
      "text/plain": [
       "                age   sex          bmi     children smoker     region  \\\n",
       "count   1338.000000  1338  1338.000000  1338.000000   1338       1338   \n",
       "unique          NaN     2          NaN          NaN      2          4   \n",
       "top             NaN  male          NaN          NaN     no  southeast   \n",
       "freq            NaN   676          NaN          NaN   1064        364   \n",
       "mean      39.207025   NaN    30.663397     1.094918    NaN        NaN   \n",
       "std       14.049960   NaN     6.098187     1.205493    NaN        NaN   \n",
       "min       18.000000   NaN    15.960000     0.000000    NaN        NaN   \n",
       "25%       27.000000   NaN    26.296250     0.000000    NaN        NaN   \n",
       "50%       39.000000   NaN    30.400000     1.000000    NaN        NaN   \n",
       "75%       51.000000   NaN    34.693750     2.000000    NaN        NaN   \n",
       "max       64.000000   NaN    53.130000     5.000000    NaN        NaN   \n",
       "\n",
       "             charges  \n",
       "count    1338.000000  \n",
       "unique           NaN  \n",
       "top              NaN  \n",
       "freq             NaN  \n",
       "mean    13270.422265  \n",
       "std     12110.011237  \n",
       "min      1121.873900  \n",
       "25%      4740.287150  \n",
       "50%      9382.033000  \n",
       "75%     16639.912515  \n",
       "max     63770.428010  "
      ]
     },
     "execution_count": 34,
     "metadata": {},
     "output_type": "execute_result"
    }
   ],
   "source": [
    "ins_data.describe(include = 'all')"
   ]
  },
  {
   "cell_type": "markdown",
   "id": "0753d701",
   "metadata": {},
   "source": [
    "#### sex vs smoker"
   ]
  },
  {
   "cell_type": "code",
   "execution_count": 35,
   "id": "ebcb7d55",
   "metadata": {},
   "outputs": [],
   "source": [
    "sex_smo = pd.crosstab(index = ins_data.sex, columns = ins_data.smoker)"
   ]
  },
  {
   "cell_type": "code",
   "execution_count": 36,
   "id": "d5d517c8",
   "metadata": {},
   "outputs": [],
   "source": [
    "chi2_score, p_val, dof, expected_tab = stats.chi2_contingency(sex_smo)"
   ]
  },
  {
   "cell_type": "code",
   "execution_count": 37,
   "id": "798c7ae5",
   "metadata": {},
   "outputs": [
    {
     "name": "stdout",
     "output_type": "stream",
     "text": [
      "chi2 score is : 7.39291081459996\n",
      "p value is : 0.006548143503580696\n",
      "degrees of freedom is : 1\n",
      "expected table is : [[526.43348281 135.56651719]\n",
      " [537.56651719 138.43348281]]\n"
     ]
    }
   ],
   "source": [
    "print(\"chi2 score is :\", chi2_score)\n",
    "print(\"p value is :\", p_val)\n",
    "print(\"degrees of freedom is :\", dof)\n",
    "print(\"expected table is :\", expected_tab)"
   ]
  },
  {
   "cell_type": "code",
   "execution_count": 38,
   "id": "289f7dc1",
   "metadata": {},
   "outputs": [
    {
     "name": "stdout",
     "output_type": "stream",
     "text": [
      "we reject the null hypothesis, here is significant relation between genders and smoking\n"
     ]
    }
   ],
   "source": [
    "if (p_val<0.05):\n",
    "    print('we reject the null hypothesis, here is significant relation between genders and smoking')\n",
    "else:\n",
    "    print('we do not reject the null hypothesis, here is no significant relation between genders and smoking')"
   ]
  },
  {
   "cell_type": "markdown",
   "id": "678824f4",
   "metadata": {},
   "source": [
    "#### sex vs children"
   ]
  },
  {
   "cell_type": "code",
   "execution_count": 39,
   "id": "9c8fff07",
   "metadata": {},
   "outputs": [],
   "source": [
    "sex_child = pd.crosstab(index = ins_data.sex, columns = ins_data.children)"
   ]
  },
  {
   "cell_type": "code",
   "execution_count": 40,
   "id": "dc9cf6b9",
   "metadata": {},
   "outputs": [],
   "source": [
    "chi2_score, p_val, dof, expected_tab = stats.chi2_contingency(sex_child)"
   ]
  },
  {
   "cell_type": "code",
   "execution_count": 41,
   "id": "495f5ceb",
   "metadata": {},
   "outputs": [
    {
     "name": "stdout",
     "output_type": "stream",
     "text": [
      "chi2 score is : 0.7352123565685106\n",
      "p value is : 0.9809803915285088\n",
      "degrees of freedom is : 5\n",
      "expected table is : [[283.99701046 160.30493274 118.74439462  77.67862481  12.36920777\n",
      "    8.9058296 ]\n",
      " [290.00298954 163.69506726 121.25560538  79.32137519  12.63079223\n",
      "    9.0941704 ]]\n"
     ]
    }
   ],
   "source": [
    "print(\"chi2 score is :\", chi2_score)\n",
    "print(\"p value is :\", p_val)\n",
    "print(\"degrees of freedom is :\", dof)\n",
    "print(\"expected table is :\", expected_tab)"
   ]
  },
  {
   "cell_type": "code",
   "execution_count": 42,
   "id": "61de0be8",
   "metadata": {},
   "outputs": [
    {
     "name": "stdout",
     "output_type": "stream",
     "text": [
      "we do not reject the null hypothesis, here is no significant relation between genders and children\n"
     ]
    }
   ],
   "source": [
    "if (p_val<0.05):\n",
    "    print('we reject the null hypothesis, here is significant relation between genders and children')\n",
    "else:\n",
    "    print('we do not reject the null hypothesis, here is no significant relation between genders and children')"
   ]
  },
  {
   "cell_type": "markdown",
   "id": "efc30e13",
   "metadata": {},
   "source": [
    "#### smoker vs region"
   ]
  },
  {
   "cell_type": "code",
   "execution_count": 43,
   "id": "2d3ec242",
   "metadata": {},
   "outputs": [],
   "source": [
    "smo_region = pd.crosstab(index = ins_data.smoker, columns = ins_data.region)"
   ]
  },
  {
   "cell_type": "code",
   "execution_count": 44,
   "id": "ec3cc1a0",
   "metadata": {},
   "outputs": [],
   "source": [
    "chi2_score, p_val, dof, expected_tab = stats.chi2_contingency(smo_region)"
   ]
  },
  {
   "cell_type": "code",
   "execution_count": 45,
   "id": "acced4ac",
   "metadata": {},
   "outputs": [
    {
     "name": "stdout",
     "output_type": "stream",
     "text": [
      "chi2 score is : 7.34347776140707\n",
      "p value is : 0.06171954839170547\n",
      "degrees of freedom is : 3\n",
      "expected table is : [[257.65022422 258.44544096 289.45889387 258.44544096]\n",
      " [ 66.34977578  66.55455904  74.54110613  66.55455904]]\n"
     ]
    }
   ],
   "source": [
    "print(\"chi2 score is :\", chi2_score)\n",
    "print(\"p value is :\", p_val)\n",
    "print(\"degrees of freedom is :\", dof)\n",
    "print(\"expected table is :\", expected_tab)"
   ]
  },
  {
   "cell_type": "code",
   "execution_count": 46,
   "id": "7a65b550",
   "metadata": {},
   "outputs": [
    {
     "name": "stdout",
     "output_type": "stream",
     "text": [
      "we do not reject the null hypothesis, here is no significant relation between smoker and region\n"
     ]
    }
   ],
   "source": [
    "if (p_val<0.05):\n",
    "    print('we reject the null hypothesis, here is significant relation between smoker and region')\n",
    "else:\n",
    "    print('we do not reject the null hypothesis, here is no significant relation between smoker and region')"
   ]
  },
  {
   "cell_type": "markdown",
   "id": "0cc57ffa",
   "metadata": {},
   "source": [
    "------------------------------------------------------------------------------------------------------------------------------"
   ]
  },
  {
   "cell_type": "markdown",
   "id": "5844c26b",
   "metadata": {},
   "source": [
    "## ANOVA"
   ]
  },
  {
   "cell_type": "code",
   "execution_count": 47,
   "id": "51b3b6cb",
   "metadata": {},
   "outputs": [],
   "source": [
    "data = pd.read_csv(\"visualization_practice_data.csv\")"
   ]
  },
  {
   "cell_type": "code",
   "execution_count": 48,
   "id": "949a8676",
   "metadata": {},
   "outputs": [
    {
     "data": {
      "text/html": [
       "<div>\n",
       "<style scoped>\n",
       "    .dataframe tbody tr th:only-of-type {\n",
       "        vertical-align: middle;\n",
       "    }\n",
       "\n",
       "    .dataframe tbody tr th {\n",
       "        vertical-align: top;\n",
       "    }\n",
       "\n",
       "    .dataframe thead th {\n",
       "        text-align: right;\n",
       "    }\n",
       "</style>\n",
       "<table border=\"1\" class=\"dataframe\">\n",
       "  <thead>\n",
       "    <tr style=\"text-align: right;\">\n",
       "      <th></th>\n",
       "      <th>month_number</th>\n",
       "      <th>facecream</th>\n",
       "      <th>facewash</th>\n",
       "      <th>toothpaste</th>\n",
       "      <th>bathingsoap</th>\n",
       "      <th>shampoo</th>\n",
       "      <th>moisturizer</th>\n",
       "      <th>total_units</th>\n",
       "      <th>total_profit</th>\n",
       "    </tr>\n",
       "  </thead>\n",
       "  <tbody>\n",
       "    <tr>\n",
       "      <th>0</th>\n",
       "      <td>1</td>\n",
       "      <td>2500</td>\n",
       "      <td>1500</td>\n",
       "      <td>5200</td>\n",
       "      <td>9200</td>\n",
       "      <td>1200</td>\n",
       "      <td>1500</td>\n",
       "      <td>21100</td>\n",
       "      <td>211000</td>\n",
       "    </tr>\n",
       "    <tr>\n",
       "      <th>1</th>\n",
       "      <td>2</td>\n",
       "      <td>2630</td>\n",
       "      <td>1200</td>\n",
       "      <td>5100</td>\n",
       "      <td>6100</td>\n",
       "      <td>2100</td>\n",
       "      <td>1200</td>\n",
       "      <td>18330</td>\n",
       "      <td>183300</td>\n",
       "    </tr>\n",
       "    <tr>\n",
       "      <th>2</th>\n",
       "      <td>3</td>\n",
       "      <td>2140</td>\n",
       "      <td>1340</td>\n",
       "      <td>4550</td>\n",
       "      <td>9550</td>\n",
       "      <td>3550</td>\n",
       "      <td>1340</td>\n",
       "      <td>22470</td>\n",
       "      <td>224700</td>\n",
       "    </tr>\n",
       "    <tr>\n",
       "      <th>3</th>\n",
       "      <td>4</td>\n",
       "      <td>3400</td>\n",
       "      <td>1130</td>\n",
       "      <td>5870</td>\n",
       "      <td>8870</td>\n",
       "      <td>1870</td>\n",
       "      <td>1130</td>\n",
       "      <td>22270</td>\n",
       "      <td>222700</td>\n",
       "    </tr>\n",
       "    <tr>\n",
       "      <th>4</th>\n",
       "      <td>5</td>\n",
       "      <td>3600</td>\n",
       "      <td>1740</td>\n",
       "      <td>4560</td>\n",
       "      <td>7760</td>\n",
       "      <td>1560</td>\n",
       "      <td>1740</td>\n",
       "      <td>20960</td>\n",
       "      <td>209600</td>\n",
       "    </tr>\n",
       "  </tbody>\n",
       "</table>\n",
       "</div>"
      ],
      "text/plain": [
       "   month_number  facecream  facewash  toothpaste  bathingsoap  shampoo  \\\n",
       "0             1       2500      1500        5200         9200     1200   \n",
       "1             2       2630      1200        5100         6100     2100   \n",
       "2             3       2140      1340        4550         9550     3550   \n",
       "3             4       3400      1130        5870         8870     1870   \n",
       "4             5       3600      1740        4560         7760     1560   \n",
       "\n",
       "   moisturizer  total_units  total_profit  \n",
       "0         1500        21100        211000  \n",
       "1         1200        18330        183300  \n",
       "2         1340        22470        224700  \n",
       "3         1130        22270        222700  \n",
       "4         1740        20960        209600  "
      ]
     },
     "execution_count": 48,
     "metadata": {},
     "output_type": "execute_result"
    }
   ],
   "source": [
    "data.head()"
   ]
  },
  {
   "cell_type": "code",
   "execution_count": 49,
   "id": "b89b3b2e",
   "metadata": {},
   "outputs": [
    {
     "name": "stdout",
     "output_type": "stream",
     "text": [
      "152.28627360267467 2.9793424498644245e-23\n"
     ]
    }
   ],
   "source": [
    "f_val, p_val = stats.f_oneway(data.facecream, data.facewash, data.total_units, data.total_profit)\n",
    "print(f_val, p_val)"
   ]
  },
  {
   "cell_type": "markdown",
   "id": "37f33b3a",
   "metadata": {},
   "source": [
    "-----------------------------------------------------------------------------------------------------------------------------"
   ]
  },
  {
   "cell_type": "code",
   "execution_count": 50,
   "id": "028f9b6f",
   "metadata": {},
   "outputs": [
    {
     "data": {
      "text/html": [
       "<div>\n",
       "<style scoped>\n",
       "    .dataframe tbody tr th:only-of-type {\n",
       "        vertical-align: middle;\n",
       "    }\n",
       "\n",
       "    .dataframe tbody tr th {\n",
       "        vertical-align: top;\n",
       "    }\n",
       "\n",
       "    .dataframe thead th {\n",
       "        text-align: right;\n",
       "    }\n",
       "</style>\n",
       "<table border=\"1\" class=\"dataframe\">\n",
       "  <thead>\n",
       "    <tr style=\"text-align: right;\">\n",
       "      <th></th>\n",
       "      <th>mpg</th>\n",
       "      <th>cyl</th>\n",
       "      <th>disp</th>\n",
       "      <th>hp</th>\n",
       "      <th>drat</th>\n",
       "      <th>wt</th>\n",
       "      <th>qsec</th>\n",
       "      <th>vs</th>\n",
       "      <th>am</th>\n",
       "      <th>gear</th>\n",
       "      <th>carb</th>\n",
       "    </tr>\n",
       "  </thead>\n",
       "  <tbody>\n",
       "    <tr>\n",
       "      <th>0</th>\n",
       "      <td>21.0</td>\n",
       "      <td>6</td>\n",
       "      <td>160.0</td>\n",
       "      <td>110</td>\n",
       "      <td>3.90</td>\n",
       "      <td>2.620</td>\n",
       "      <td>16.46</td>\n",
       "      <td>0</td>\n",
       "      <td>1</td>\n",
       "      <td>4</td>\n",
       "      <td>4</td>\n",
       "    </tr>\n",
       "    <tr>\n",
       "      <th>1</th>\n",
       "      <td>21.0</td>\n",
       "      <td>6</td>\n",
       "      <td>160.0</td>\n",
       "      <td>110</td>\n",
       "      <td>3.90</td>\n",
       "      <td>2.875</td>\n",
       "      <td>17.02</td>\n",
       "      <td>0</td>\n",
       "      <td>1</td>\n",
       "      <td>4</td>\n",
       "      <td>4</td>\n",
       "    </tr>\n",
       "    <tr>\n",
       "      <th>2</th>\n",
       "      <td>22.8</td>\n",
       "      <td>4</td>\n",
       "      <td>108.0</td>\n",
       "      <td>93</td>\n",
       "      <td>3.85</td>\n",
       "      <td>2.320</td>\n",
       "      <td>18.61</td>\n",
       "      <td>1</td>\n",
       "      <td>1</td>\n",
       "      <td>4</td>\n",
       "      <td>1</td>\n",
       "    </tr>\n",
       "    <tr>\n",
       "      <th>3</th>\n",
       "      <td>21.4</td>\n",
       "      <td>6</td>\n",
       "      <td>258.0</td>\n",
       "      <td>110</td>\n",
       "      <td>3.08</td>\n",
       "      <td>3.215</td>\n",
       "      <td>19.44</td>\n",
       "      <td>1</td>\n",
       "      <td>0</td>\n",
       "      <td>3</td>\n",
       "      <td>1</td>\n",
       "    </tr>\n",
       "    <tr>\n",
       "      <th>4</th>\n",
       "      <td>18.7</td>\n",
       "      <td>8</td>\n",
       "      <td>360.0</td>\n",
       "      <td>175</td>\n",
       "      <td>3.15</td>\n",
       "      <td>3.440</td>\n",
       "      <td>17.02</td>\n",
       "      <td>0</td>\n",
       "      <td>0</td>\n",
       "      <td>3</td>\n",
       "      <td>2</td>\n",
       "    </tr>\n",
       "  </tbody>\n",
       "</table>\n",
       "</div>"
      ],
      "text/plain": [
       "    mpg  cyl   disp   hp  drat     wt   qsec  vs  am  gear  carb\n",
       "0  21.0    6  160.0  110  3.90  2.620  16.46   0   1     4     4\n",
       "1  21.0    6  160.0  110  3.90  2.875  17.02   0   1     4     4\n",
       "2  22.8    4  108.0   93  3.85  2.320  18.61   1   1     4     1\n",
       "3  21.4    6  258.0  110  3.08  3.215  19.44   1   0     3     1\n",
       "4  18.7    8  360.0  175  3.15  3.440  17.02   0   0     3     2"
      ]
     },
     "execution_count": 50,
     "metadata": {},
     "output_type": "execute_result"
    }
   ],
   "source": [
    "mtcars_data = pd.read_csv('mtcars.csv')\n",
    "mtcars_data.head()"
   ]
  },
  {
   "cell_type": "code",
   "execution_count": 51,
   "id": "37ee501a",
   "metadata": {},
   "outputs": [
    {
     "name": "stdout",
     "output_type": "stream",
     "text": [
      "156.54097186275342 1.2954488722137534e-18\n"
     ]
    }
   ],
   "source": [
    "f_val, p_val = stats.f_oneway(mtcars_data.cyl, mtcars_data.mpg)\n",
    "print(f_val, p_val)"
   ]
  },
  {
   "cell_type": "code",
   "execution_count": null,
   "id": "817eb470",
   "metadata": {},
   "outputs": [],
   "source": []
  }
 ],
 "metadata": {
  "kernelspec": {
   "display_name": "Python 3",
   "language": "python",
   "name": "python3"
  },
  "language_info": {
   "codemirror_mode": {
    "name": "ipython",
    "version": 3
   },
   "file_extension": ".py",
   "mimetype": "text/x-python",
   "name": "python",
   "nbconvert_exporter": "python",
   "pygments_lexer": "ipython3",
   "version": "3.8.8"
  }
 },
 "nbformat": 4,
 "nbformat_minor": 5
}
