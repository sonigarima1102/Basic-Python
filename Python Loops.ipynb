{
 "cells": [
  {
   "cell_type": "markdown",
   "id": "4860f4dd",
   "metadata": {},
   "source": [
    "#### 1. While Loop"
   ]
  },
  {
   "cell_type": "markdown",
   "id": "f5884907",
   "metadata": {},
   "source": [
    "###### 1. sum of 10 natural even numbers"
   ]
  },
  {
   "cell_type": "code",
   "execution_count": 7,
   "id": "5b571bdc",
   "metadata": {},
   "outputs": [
    {
     "name": "stdout",
     "output_type": "stream",
     "text": [
      "sum of 10 natural numsers is  110\n"
     ]
    }
   ],
   "source": [
    "i = 0\n",
    "sum = 0 \n",
    "while i <= 20:\n",
    "    if i%2 == 0:\n",
    "        sum = sum+i\n",
    "    i = i+1\n",
    "print (\"sum of 10 natural numsers is \", sum)"
   ]
  },
  {
   "cell_type": "markdown",
   "id": "f3a5f33a",
   "metadata": {},
   "source": [
    "###### 2. reverse an integer"
   ]
  },
  {
   "cell_type": "code",
   "execution_count": 6,
   "id": "30ddcd97",
   "metadata": {},
   "outputs": [
    {
     "name": "stdout",
     "output_type": "stream",
     "text": [
      "enter a number678\n",
      "876\n"
     ]
    }
   ],
   "source": [
    "num = int(input(\"enter a number\"))\n",
    "rev = 0\n",
    "while num%10 != 0:\n",
    "    c = num%10\n",
    "    rev = rev*10+c\n",
    "    num = num//10\n",
    "print(rev)"
   ]
  },
  {
   "cell_type": "markdown",
   "id": "2e9f10cf",
   "metadata": {},
   "source": [
    "#### 2.  for loop"
   ]
  },
  {
   "cell_type": "markdown",
   "id": "4efc549c",
   "metadata": {},
   "source": [
    "###### 1. print all the even numbers between given numbers"
   ]
  },
  {
   "cell_type": "code",
   "execution_count": 12,
   "id": "936b927c",
   "metadata": {},
   "outputs": [
    {
     "name": "stdout",
     "output_type": "stream",
     "text": [
      "enter the min number10\n",
      "enter the max number28\n",
      "10\n",
      "12\n",
      "14\n",
      "16\n",
      "18\n",
      "20\n",
      "22\n",
      "24\n",
      "26\n",
      "28\n"
     ]
    }
   ],
   "source": [
    "num1 = int(input(\"enter the min number\"))\n",
    "num2 = int(input(\"enter the max number\"))\n",
    "for i in range(num1, num2+1):\n",
    "    if i%2 == 0 :\n",
    "        print(i)"
   ]
  },
  {
   "cell_type": "markdown",
   "id": "9706bc24",
   "metadata": {},
   "source": [
    "###### 2. pattern printing "
   ]
  },
  {
   "cell_type": "code",
   "execution_count": 14,
   "id": "dc32248a",
   "metadata": {},
   "outputs": [
    {
     "name": "stdout",
     "output_type": "stream",
     "text": [
      "enter a number7\n",
      "#\n",
      "##\n",
      "###\n",
      "####\n",
      "#####\n",
      "######\n",
      "#######\n"
     ]
    }
   ],
   "source": [
    "num = int(input(\"enter a number\"))\n",
    "for i in range (1, num+1):\n",
    "    for j in range (1, i+1):\n",
    "        print(\"#\", end =\"\")\n",
    "    print(\"\\r\")"
   ]
  },
  {
   "cell_type": "markdown",
   "id": "7a37a6d4",
   "metadata": {},
   "source": [
    "#### 3. ifelse"
   ]
  },
  {
   "cell_type": "markdown",
   "id": "818703d0",
   "metadata": {},
   "source": [
    "###### 1. positive or negative"
   ]
  },
  {
   "cell_type": "code",
   "execution_count": 23,
   "id": "75bf3466",
   "metadata": {},
   "outputs": [
    {
     "name": "stdout",
     "output_type": "stream",
     "text": [
      "enter a number-9\n",
      "Negative\n"
     ]
    }
   ],
   "source": [
    "num1 = int(input(\"enter a number\"))\n",
    "if num1 > 0 : \n",
    "    print(\"Positive\")\n",
    "else:\n",
    "    if num1 < 0 :\n",
    "        print(\"Negative\")\n",
    "    else:\n",
    "        print(\"Zero\")"
   ]
  },
  {
   "cell_type": "markdown",
   "id": "b8453459",
   "metadata": {},
   "source": [
    "###### 2. name matching"
   ]
  },
  {
   "cell_type": "markdown",
   "id": "acdf537c",
   "metadata": {},
   "source": [
    "name1 = input(\"enter a name -\")\n",
    "name = \"Rohini\"\n",
    "if name1 == name:\n",
    "    print(\"Hello Rohini welcome\")\n",
    "else:\n",
    "    print(\"Sorry {} i dont know you\".format(name1))"
   ]
  },
  {
   "cell_type": "markdown",
   "id": "49626dc6",
   "metadata": {},
   "source": [
    "#### 4. if elif else"
   ]
  },
  {
   "cell_type": "markdown",
   "id": "a867733b",
   "metadata": {},
   "source": [
    "###### 1. greater than equal to "
   ]
  },
  {
   "cell_type": "code",
   "execution_count": 19,
   "id": "1edc652a",
   "metadata": {},
   "outputs": [
    {
     "name": "stdout",
     "output_type": "stream",
     "text": [
      "enter a number10\n",
      "enter a number12\n",
      "10 is less than 12\n"
     ]
    }
   ],
   "source": [
    "num1 = int(input(\"enter a number\"))\n",
    "num2 = int(input(\"enter a number\"))\n",
    "if num1>num2:\n",
    "    print (\"{} is greater than {}\".format(num1, num2))\n",
    "elif num1<num2:\n",
    "    print (\"{} is less than {}\".format(num1, num2))\n",
    "else :\n",
    "    print(\"both are equal\")\n",
    "        "
   ]
  },
  {
   "cell_type": "markdown",
   "id": "3847e433",
   "metadata": {},
   "source": [
    "#### 2. student result"
   ]
  },
  {
   "cell_type": "code",
   "execution_count": 4,
   "id": "93e1427f",
   "metadata": {},
   "outputs": [
    {
     "name": "stdout",
     "output_type": "stream",
     "text": [
      "enter the percentage -57\n",
      "second division\n"
     ]
    }
   ],
   "source": [
    "p = int(input(\"enter the percentage -\"))\n",
    "if p >= 70:\n",
    "    print(\"first division\")\n",
    "elif 50<=p<70 :\n",
    "    print(\"second division\")\n",
    "elif 30<=p<50:\n",
    "    print(\"thirt division\")\n",
    "else:\n",
    "    print(\"Fail\")"
   ]
  },
  {
   "cell_type": "markdown",
   "id": "902d4d72",
   "metadata": {},
   "source": [
    "#### 5. user defined functions without for loop, if loop"
   ]
  },
  {
   "cell_type": "markdown",
   "id": "fc79eb2e",
   "metadata": {},
   "source": [
    "###### 1.Birthday wish print"
   ]
  },
  {
   "cell_type": "code",
   "execution_count": 6,
   "id": "041d1c40",
   "metadata": {},
   "outputs": [],
   "source": [
    "def bday(name):\n",
    "    print (\"Happy birthday to you dear {}\".format(name))"
   ]
  },
  {
   "cell_type": "code",
   "execution_count": 7,
   "id": "47fca0d5",
   "metadata": {},
   "outputs": [
    {
     "name": "stdout",
     "output_type": "stream",
     "text": [
      "Happy birthday to you dear Rohan\n"
     ]
    }
   ],
   "source": [
    "bday('Rohan')"
   ]
  },
  {
   "cell_type": "markdown",
   "id": "98127b10",
   "metadata": {},
   "source": [
    "###### 2. square "
   ]
  },
  {
   "cell_type": "code",
   "execution_count": 8,
   "id": "4d31900f",
   "metadata": {},
   "outputs": [],
   "source": [
    "def square(num):\n",
    "    return num*num"
   ]
  },
  {
   "cell_type": "code",
   "execution_count": 9,
   "id": "bf943849",
   "metadata": {},
   "outputs": [
    {
     "data": {
      "text/plain": [
       "36"
      ]
     },
     "execution_count": 9,
     "metadata": {},
     "output_type": "execute_result"
    }
   ],
   "source": [
    "square(6)"
   ]
  },
  {
   "cell_type": "markdown",
   "id": "e17a5b12",
   "metadata": {},
   "source": [
    "#### 6.  user defined functions with for loop"
   ]
  },
  {
   "cell_type": "markdown",
   "id": "44fb5b39",
   "metadata": {},
   "source": [
    "###### 1. reverse pyramid pattern"
   ]
  },
  {
   "cell_type": "code",
   "execution_count": 34,
   "id": "913386fd",
   "metadata": {},
   "outputs": [],
   "source": [
    "def rev_py(n):\n",
    "    for i in range (n, 0, -1):\n",
    "        for j in range (1, i+1):\n",
    "            print(j, end = \" \")\n",
    "        print(\"\")"
   ]
  },
  {
   "cell_type": "code",
   "execution_count": 30,
   "id": "0827e02d",
   "metadata": {},
   "outputs": [
    {
     "name": "stdout",
     "output_type": "stream",
     "text": [
      "1 2 3 4 5 6 \n",
      "1 2 3 4 5 \n",
      "1 2 3 4 \n",
      "1 2 3 \n",
      "1 2 \n",
      "1 \n"
     ]
    }
   ],
   "source": [
    "rev_py(6)"
   ]
  },
  {
   "cell_type": "markdown",
   "id": "8aa1271f",
   "metadata": {},
   "source": [
    "#### 2. Square pattern"
   ]
  },
  {
   "cell_type": "code",
   "execution_count": 40,
   "id": "654115b7",
   "metadata": {
    "scrolled": true
   },
   "outputs": [],
   "source": [
    "def square_pattern(n):\n",
    "    for i in range (1, n+1):\n",
    "        for j in range (1, n+1):\n",
    "            print(\"@\", end = \" \")\n",
    "        print(\"\")"
   ]
  },
  {
   "cell_type": "code",
   "execution_count": 42,
   "id": "57d1a70c",
   "metadata": {
    "scrolled": true
   },
   "outputs": [
    {
     "name": "stdout",
     "output_type": "stream",
     "text": [
      "@ @ @ @ @ @ \n",
      "@ @ @ @ @ @ \n",
      "@ @ @ @ @ @ \n",
      "@ @ @ @ @ @ \n",
      "@ @ @ @ @ @ \n",
      "@ @ @ @ @ @ \n"
     ]
    }
   ],
   "source": [
    "square_pattern(6)"
   ]
  },
  {
   "cell_type": "markdown",
   "id": "ed56ed45",
   "metadata": {},
   "source": [
    "#### 7. user defined functions with for loop and if loop"
   ]
  },
  {
   "cell_type": "markdown",
   "id": "09342c33",
   "metadata": {},
   "source": [
    "###### 1. print reverse mirrored right angle pyramid"
   ]
  },
  {
   "cell_type": "code",
   "execution_count": 44,
   "id": "8f446c85",
   "metadata": {
    "scrolled": true
   },
   "outputs": [],
   "source": [
    "def rev_mir_py(n):\n",
    "    for i in range (1, n+1):\n",
    "        for j in range (1, n+1):\n",
    "            if (j<i):\n",
    "                print (' ', end = ' ')\n",
    "            else: \n",
    "                print ('*', end = ' ')\n",
    "        print(\"\")"
   ]
  },
  {
   "cell_type": "code",
   "execution_count": 45,
   "id": "f24bb2c8",
   "metadata": {},
   "outputs": [
    {
     "name": "stdout",
     "output_type": "stream",
     "text": [
      "* * * * * * \n",
      "  * * * * * \n",
      "    * * * * \n",
      "      * * * \n",
      "        * * \n",
      "          * \n"
     ]
    }
   ],
   "source": [
    "rev_mir_py(6)"
   ]
  },
  {
   "cell_type": "markdown",
   "id": "b18af67b",
   "metadata": {},
   "source": [
    "###### 2. print mirrored right angle pyramid"
   ]
  },
  {
   "cell_type": "code",
   "execution_count": 46,
   "id": "ca1f76d2",
   "metadata": {},
   "outputs": [],
   "source": [
    "def mir_r_py(n):\n",
    "    for i in range (1, n+1):\n",
    "        for j in range (1, n+1):\n",
    "            if(j <= n-i):\n",
    "                    print (' ', end = ' ')\n",
    "            else: \n",
    "                print ('*', end = ' ')\n",
    "        print(\"\")    "
   ]
  },
  {
   "cell_type": "code",
   "execution_count": 47,
   "id": "fd4a82e8",
   "metadata": {},
   "outputs": [
    {
     "name": "stdout",
     "output_type": "stream",
     "text": [
      "        * \n",
      "      * * \n",
      "    * * * \n",
      "  * * * * \n",
      "* * * * * \n"
     ]
    }
   ],
   "source": [
    "mir_r_py(5)"
   ]
  },
  {
   "cell_type": "markdown",
   "id": "13f370ce",
   "metadata": {},
   "source": [
    "#### 8. break"
   ]
  },
  {
   "cell_type": "markdown",
   "id": "53511f96",
   "metadata": {},
   "source": [
    "###### 1."
   ]
  },
  {
   "cell_type": "code",
   "execution_count": 50,
   "id": "ffa3e341",
   "metadata": {},
   "outputs": [
    {
     "name": "stdout",
     "output_type": "stream",
     "text": [
      "a l p h a n "
     ]
    }
   ],
   "source": [
    "for i in 'alphaneumaric':\n",
    "    if i == 'e':\n",
    "        break\n",
    "    else:\n",
    "        print(i, end= \" \")"
   ]
  },
  {
   "cell_type": "markdown",
   "id": "3aa0d529",
   "metadata": {},
   "source": [
    "###### 2."
   ]
  },
  {
   "cell_type": "code",
   "execution_count": 53,
   "id": "25ba5c00",
   "metadata": {},
   "outputs": [
    {
     "name": "stdout",
     "output_type": "stream",
     "text": [
      "19 18 17 16 15 14 13 12 11 "
     ]
    }
   ],
   "source": [
    "num = 20\n",
    "while num>7:\n",
    "    num = num-1 \n",
    "    if num == 10:\n",
    "        break\n",
    "    else:\n",
    "        print(num, end = \" \")    "
   ]
  },
  {
   "cell_type": "markdown",
   "id": "e26bca46",
   "metadata": {},
   "source": [
    "#### 9. continue"
   ]
  },
  {
   "cell_type": "markdown",
   "id": "d32fcbb0",
   "metadata": {},
   "source": [
    "#### 1."
   ]
  },
  {
   "cell_type": "code",
   "execution_count": 59,
   "id": "1acf2c0f",
   "metadata": {},
   "outputs": [
    {
     "name": "stdout",
     "output_type": "stream",
     "text": [
      "a l p h a n u m a r i c "
     ]
    }
   ],
   "source": [
    "for i in 'alphaneumaric':\n",
    "    if i == 'e':\n",
    "        continue\n",
    "    else:\n",
    "        print(i, end= \" \")"
   ]
  },
  {
   "cell_type": "markdown",
   "id": "70220ca3",
   "metadata": {},
   "source": [
    "###### 2."
   ]
  },
  {
   "cell_type": "code",
   "execution_count": 58,
   "id": "f1067734",
   "metadata": {},
   "outputs": [
    {
     "name": "stdout",
     "output_type": "stream",
     "text": [
      "19 18 17 16 15 14 13 12 11 9 8 7 "
     ]
    }
   ],
   "source": [
    "num = 20\n",
    "while num>7:\n",
    "    num = num-1 \n",
    "    if num == 10:\n",
    "        continue\n",
    "    else:\n",
    "        print(num, end = \" \")"
   ]
  },
  {
   "cell_type": "markdown",
   "id": "a9abad49",
   "metadata": {},
   "source": [
    "#### 10. for loop with in operator"
   ]
  },
  {
   "cell_type": "markdown",
   "id": "f881c99d",
   "metadata": {},
   "source": [
    "###### 1."
   ]
  },
  {
   "cell_type": "code",
   "execution_count": 86,
   "id": "b1bcb220",
   "metadata": {
    "scrolled": true
   },
   "outputs": [
    {
     "name": "stdout",
     "output_type": "stream",
     "text": [
      "3\n",
      "1\n",
      "4\n",
      "1\n",
      "5\n",
      "9\n"
     ]
    }
   ],
   "source": [
    "for num in (3,1,4,1,5,9):\n",
    "    print (num)"
   ]
  },
  {
   "cell_type": "markdown",
   "id": "479927cb",
   "metadata": {},
   "source": [
    "###### 2."
   ]
  },
  {
   "cell_type": "code",
   "execution_count": 91,
   "id": "07477ea2",
   "metadata": {},
   "outputs": [
    {
     "name": "stdout",
     "output_type": "stream",
     "text": [
      "50 52 54 56 58 60 62 64 66 68 70 72 74 76 78 80 82 84 86 88 90 92 94 96 98 "
     ]
    }
   ],
   "source": [
    "for i in range(50, 100, 2):\n",
    "    print(i, end = \" \")"
   ]
  },
  {
   "cell_type": "markdown",
   "id": "40d8c98f",
   "metadata": {},
   "source": [
    "###### 11. for loop with if statement"
   ]
  },
  {
   "cell_type": "markdown",
   "id": "225f3bb4",
   "metadata": {},
   "source": [
    "###### 1."
   ]
  },
  {
   "cell_type": "code",
   "execution_count": 77,
   "id": "2eb678af",
   "metadata": {},
   "outputs": [
    {
     "name": "stdout",
     "output_type": "stream",
     "text": [
      "15 is dividible by 15\n",
      "30 is dividible by 15\n",
      "45 is dividible by 15\n"
     ]
    }
   ],
   "source": [
    "for i in range(1, 50):\n",
    "    if i%15 ==0 :\n",
    "        print(\"{} is dividible by 15\".format(i))"
   ]
  },
  {
   "cell_type": "markdown",
   "id": "f9b675cf",
   "metadata": {},
   "source": [
    "###### 2."
   ]
  },
  {
   "cell_type": "code",
   "execution_count": 82,
   "id": "9b9194e4",
   "metadata": {},
   "outputs": [
    {
     "name": "stdout",
     "output_type": "stream",
     "text": [
      "c q u i n t n c e "
     ]
    }
   ],
   "source": [
    "for letter in \"acquaintance\":\n",
    "    if letter != \"a\" :\n",
    "        print(letter, end = \" \")"
   ]
  },
  {
   "cell_type": "markdown",
   "id": "9ef20226",
   "metadata": {},
   "source": [
    "###### 12. for loop with not in operator"
   ]
  },
  {
   "cell_type": "code",
   "execution_count": 103,
   "id": "cedb6d78",
   "metadata": {},
   "outputs": [
    {
     "name": "stdout",
     "output_type": "stream",
     "text": [
      "List Item:  5\n",
      "List Item:  15\n",
      "List Item:  20\n",
      "List Item:  30\n"
     ]
    }
   ],
   "source": [
    "num = 5, 10, 15, 20, 25, 30\n",
    "for i in num:\n",
    "    if i not in (10,25): \n",
    "        print (\"List Item: \" ,i)"
   ]
  },
  {
   "cell_type": "code",
   "execution_count": 113,
   "id": "b27151e6",
   "metadata": {
    "scrolled": true
   },
   "outputs": [
    {
     "name": "stdout",
     "output_type": "stream",
     "text": [
      "The sum is 23\n"
     ]
    }
   ],
   "source": [
    "num1 = 6, 5, 3, 8, 4, 2, 5, 4, \n",
    "num2 = 6, 4,\n",
    "sum = 0\n",
    "for i in num1:\n",
    "    if i not in (num2):\n",
    "        sum = sum+i\n",
    "print(\"The sum is\", sum)"
   ]
  },
  {
   "cell_type": "markdown",
   "id": "657ef013",
   "metadata": {},
   "source": [
    "#### 13. if with in operator"
   ]
  },
  {
   "cell_type": "markdown",
   "id": "7aab566e",
   "metadata": {},
   "source": [
    "###### 1."
   ]
  },
  {
   "cell_type": "code",
   "execution_count": 62,
   "id": "46efe93b",
   "metadata": {},
   "outputs": [
    {
     "name": "stdout",
     "output_type": "stream",
     "text": [
      "Enter a letter o\n",
      "Vowel\n"
     ]
    }
   ],
   "source": [
    "vowels =\"A\", \"E\", \"I\",\"O\", \"U\"\n",
    "n = input(\"Enter a letter \")\n",
    "if n.upper() in vowels:\n",
    "    print(\"Vowel\")\n",
    "else:\n",
    "    print(\"Consonant\")"
   ]
  },
  {
   "cell_type": "markdown",
   "id": "c342463c",
   "metadata": {},
   "source": [
    "###### 2."
   ]
  },
  {
   "cell_type": "code",
   "execution_count": 69,
   "id": "b06c7d3e",
   "metadata": {
    "scrolled": true
   },
   "outputs": [
    {
     "name": "stdout",
     "output_type": "stream",
     "text": [
      "overlapping\n",
      "Not overlapping\n",
      "Not overlapping\n",
      "overlapping\n"
     ]
    }
   ],
   "source": [
    "name1 = \"ram\",\"pradeep\",\"kanchan\",\"varsha\"\n",
    "name2 = \"ajay\", \"varsha\",\"chandan\",\"ram\"\n",
    "for i in name1:\n",
    "    if i in name2:\n",
    "        print(\"overlapping\")\n",
    "    else:\n",
    "        print(\"Not overlapping\")"
   ]
  },
  {
   "cell_type": "markdown",
   "id": "aee3d52f",
   "metadata": {},
   "source": [
    "#### 14. if with not in opearator"
   ]
  },
  {
   "cell_type": "markdown",
   "id": "71745f7a",
   "metadata": {},
   "source": [
    "###### 1."
   ]
  },
  {
   "cell_type": "code",
   "execution_count": null,
   "id": "7227c46c",
   "metadata": {},
   "outputs": [],
   "source": [
    "vowels =\"A\", \"E\", \"I\",\"O\", \"U\"\n",
    "n = input(\"Enter a letter \")\n",
    "if n.upper() not in vowels:\n",
    "    print(\"Consonant\")\n",
    "else:\n",
    "    print(\"Vowel\")"
   ]
  },
  {
   "cell_type": "markdown",
   "id": "2a1dcc60",
   "metadata": {},
   "source": [
    "###### 2."
   ]
  },
  {
   "cell_type": "code",
   "execution_count": 72,
   "id": "3513cc6f",
   "metadata": {},
   "outputs": [
    {
     "name": "stdout",
     "output_type": "stream",
     "text": [
      "found\n"
     ]
    }
   ],
   "source": [
    "review =\"I strongly recommend to the people who are looking for data science course.\" \n",
    "if \"people\" not in review:\n",
    "    print(\"not found\")\n",
    "else:\n",
    "    print(\"found\")"
   ]
  },
  {
   "cell_type": "code",
   "execution_count": null,
   "id": "8d217b6f",
   "metadata": {},
   "outputs": [],
   "source": []
  }
 ],
 "metadata": {
  "kernelspec": {
   "display_name": "Python 3",
   "language": "python",
   "name": "python3"
  },
  "language_info": {
   "codemirror_mode": {
    "name": "ipython",
    "version": 3
   },
   "file_extension": ".py",
   "mimetype": "text/x-python",
   "name": "python",
   "nbconvert_exporter": "python",
   "pygments_lexer": "ipython3",
   "version": "3.8.8"
  }
 },
 "nbformat": 4,
 "nbformat_minor": 5
}
