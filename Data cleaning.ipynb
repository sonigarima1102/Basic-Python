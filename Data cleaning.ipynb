{
 "cells": [
  {
   "cell_type": "markdown",
   "id": "4768f215",
   "metadata": {},
   "source": [
    "# Data cleaning exercise"
   ]
  },
  {
   "cell_type": "code",
   "execution_count": 2,
   "id": "b3fdbea2",
   "metadata": {},
   "outputs": [],
   "source": [
    "import pandas as pd\n",
    "import numpy as np\n",
    "s_2017 = pd.read_csv(\"Sales Transactions-2017.csv\")\n",
    "s_2018 = pd.read_csv(\"Sales Transactions-2018.csv\")\n",
    "s_2019 = pd.read_csv(\"Sales Transactions-2019.csv\")\n",
    "sales_clean_data = pd.read_csv(\"Sales-Transactions-Edited.csv\")"
   ]
  },
  {
   "cell_type": "code",
   "execution_count": 3,
   "id": "011c2bcc",
   "metadata": {},
   "outputs": [],
   "source": [
    "sales_data = pd.concat([s_2017, s_2018, s_2019])"
   ]
  },
  {
   "cell_type": "code",
   "execution_count": 4,
   "id": "68f4cec6",
   "metadata": {},
   "outputs": [
    {
     "data": {
      "text/plain": [
       "(111206, 9)"
      ]
     },
     "execution_count": 4,
     "metadata": {},
     "output_type": "execute_result"
    }
   ],
   "source": [
    "sales_data.shape"
   ]
  },
  {
   "cell_type": "code",
   "execution_count": 5,
   "id": "3a6c16b6",
   "metadata": {},
   "outputs": [
    {
     "data": {
      "text/plain": [
       "(95562, 6)"
      ]
     },
     "execution_count": 5,
     "metadata": {},
     "output_type": "execute_result"
    }
   ],
   "source": [
    "sales_clean_data.shape"
   ]
  },
  {
   "cell_type": "code",
   "execution_count": 6,
   "id": "6759ba4e",
   "metadata": {
    "scrolled": true
   },
   "outputs": [
    {
     "data": {
      "text/plain": [
       "Date              object\n",
       "Voucher           object\n",
       "Party             object\n",
       "Product           object\n",
       "Qty               object\n",
       "Rate              object\n",
       "Gross             object\n",
       "Disc              object\n",
       "Voucher Amount    object\n",
       "dtype: object"
      ]
     },
     "execution_count": 6,
     "metadata": {},
     "output_type": "execute_result"
    }
   ],
   "source": [
    "sales_data.dtypes"
   ]
  },
  {
   "cell_type": "code",
   "execution_count": 7,
   "id": "338fab5b",
   "metadata": {
    "scrolled": true
   },
   "outputs": [
    {
     "data": {
      "text/plain": [
       "Date        object\n",
       "Voucher      int64\n",
       "Party       object\n",
       "Product     object\n",
       "Qty          int64\n",
       "Rate       float64\n",
       "dtype: object"
      ]
     },
     "execution_count": 7,
     "metadata": {},
     "output_type": "execute_result"
    }
   ],
   "source": [
    "sales_clean_data.dtypes"
   ]
  },
  {
   "cell_type": "code",
   "execution_count": 8,
   "id": "13554a6a",
   "metadata": {
    "scrolled": false
   },
   "outputs": [
    {
     "data": {
      "text/html": [
       "<div>\n",
       "<style scoped>\n",
       "    .dataframe tbody tr th:only-of-type {\n",
       "        vertical-align: middle;\n",
       "    }\n",
       "\n",
       "    .dataframe tbody tr th {\n",
       "        vertical-align: top;\n",
       "    }\n",
       "\n",
       "    .dataframe thead th {\n",
       "        text-align: right;\n",
       "    }\n",
       "</style>\n",
       "<table border=\"1\" class=\"dataframe\">\n",
       "  <thead>\n",
       "    <tr style=\"text-align: right;\">\n",
       "      <th></th>\n",
       "      <th>Date</th>\n",
       "      <th>Voucher</th>\n",
       "      <th>Party</th>\n",
       "      <th>Product</th>\n",
       "      <th>Qty</th>\n",
       "      <th>Rate</th>\n",
       "      <th>Gross</th>\n",
       "      <th>Disc</th>\n",
       "      <th>Voucher Amount</th>\n",
       "    </tr>\n",
       "  </thead>\n",
       "  <tbody>\n",
       "    <tr>\n",
       "      <th>0</th>\n",
       "      <td>1/4/2017</td>\n",
       "      <td>Sal:1</td>\n",
       "      <td>SOLANKI PLASTICS</td>\n",
       "      <td>DONA-VAI-9100</td>\n",
       "      <td>2</td>\n",
       "      <td>1,690.00</td>\n",
       "      <td>3,380.00</td>\n",
       "      <td>NaN</td>\n",
       "      <td>13,100.00</td>\n",
       "    </tr>\n",
       "    <tr>\n",
       "      <th>1</th>\n",
       "      <td>1/4/2017</td>\n",
       "      <td>Sal:1</td>\n",
       "      <td>SOLANKI PLASTICS</td>\n",
       "      <td>LITE FOAM(1200)</td>\n",
       "      <td>6</td>\n",
       "      <td>1,620.00</td>\n",
       "      <td>9,720.00</td>\n",
       "      <td>NaN</td>\n",
       "      <td>NaN</td>\n",
       "    </tr>\n",
       "    <tr>\n",
       "      <th>2</th>\n",
       "      <td>1/4/2017</td>\n",
       "      <td>Sal:2</td>\n",
       "      <td>SARNESWARA TRADERS</td>\n",
       "      <td>VISHNU CHOTA WINE</td>\n",
       "      <td>500</td>\n",
       "      <td>23</td>\n",
       "      <td>11,500.00</td>\n",
       "      <td>NaN</td>\n",
       "      <td>30,990.00</td>\n",
       "    </tr>\n",
       "    <tr>\n",
       "      <th>3</th>\n",
       "      <td>1/4/2017</td>\n",
       "      <td>Sal:2</td>\n",
       "      <td>SARNESWARA TRADERS</td>\n",
       "      <td>LITE FOAM(1200)</td>\n",
       "      <td>6</td>\n",
       "      <td>1,620.00</td>\n",
       "      <td>9,720.00</td>\n",
       "      <td>NaN</td>\n",
       "      <td>NaN</td>\n",
       "    </tr>\n",
       "    <tr>\n",
       "      <th>4</th>\n",
       "      <td>1/4/2017</td>\n",
       "      <td>Sal:2</td>\n",
       "      <td>SARNESWARA TRADERS</td>\n",
       "      <td>DONA-VAI-9100</td>\n",
       "      <td>5</td>\n",
       "      <td>1,690.00</td>\n",
       "      <td>8,450.00</td>\n",
       "      <td>NaN</td>\n",
       "      <td>NaN</td>\n",
       "    </tr>\n",
       "  </tbody>\n",
       "</table>\n",
       "</div>"
      ],
      "text/plain": [
       "       Date Voucher               Party            Product  Qty      Rate  \\\n",
       "0  1/4/2017   Sal:1    SOLANKI PLASTICS      DONA-VAI-9100    2  1,690.00   \n",
       "1  1/4/2017   Sal:1    SOLANKI PLASTICS    LITE FOAM(1200)    6  1,620.00   \n",
       "2  1/4/2017   Sal:2  SARNESWARA TRADERS  VISHNU CHOTA WINE  500        23   \n",
       "3  1/4/2017   Sal:2  SARNESWARA TRADERS    LITE FOAM(1200)    6  1,620.00   \n",
       "4  1/4/2017   Sal:2  SARNESWARA TRADERS      DONA-VAI-9100    5  1,690.00   \n",
       "\n",
       "       Gross Disc Voucher Amount  \n",
       "0   3,380.00  NaN      13,100.00  \n",
       "1   9,720.00  NaN            NaN  \n",
       "2  11,500.00  NaN      30,990.00  \n",
       "3   9,720.00  NaN            NaN  \n",
       "4   8,450.00  NaN            NaN  "
      ]
     },
     "execution_count": 8,
     "metadata": {},
     "output_type": "execute_result"
    }
   ],
   "source": [
    "sales_data.head()"
   ]
  },
  {
   "cell_type": "code",
   "execution_count": 9,
   "id": "7016bdea",
   "metadata": {},
   "outputs": [
    {
     "data": {
      "text/html": [
       "<div>\n",
       "<style scoped>\n",
       "    .dataframe tbody tr th:only-of-type {\n",
       "        vertical-align: middle;\n",
       "    }\n",
       "\n",
       "    .dataframe tbody tr th {\n",
       "        vertical-align: top;\n",
       "    }\n",
       "\n",
       "    .dataframe thead th {\n",
       "        text-align: right;\n",
       "    }\n",
       "</style>\n",
       "<table border=\"1\" class=\"dataframe\">\n",
       "  <thead>\n",
       "    <tr style=\"text-align: right;\">\n",
       "      <th></th>\n",
       "      <th>Date</th>\n",
       "      <th>Voucher</th>\n",
       "      <th>Party</th>\n",
       "      <th>Product</th>\n",
       "      <th>Qty</th>\n",
       "      <th>Rate</th>\n",
       "    </tr>\n",
       "  </thead>\n",
       "  <tbody>\n",
       "    <tr>\n",
       "      <th>0</th>\n",
       "      <td>1/4/2017</td>\n",
       "      <td>1</td>\n",
       "      <td>SOLANKI PLASTICS</td>\n",
       "      <td>DONA-VAI-9100</td>\n",
       "      <td>2</td>\n",
       "      <td>1690.0</td>\n",
       "    </tr>\n",
       "    <tr>\n",
       "      <th>1</th>\n",
       "      <td>1/4/2017</td>\n",
       "      <td>1</td>\n",
       "      <td>SOLANKI PLASTICS</td>\n",
       "      <td>LITE FOAM(1200)</td>\n",
       "      <td>6</td>\n",
       "      <td>1620.0</td>\n",
       "    </tr>\n",
       "    <tr>\n",
       "      <th>2</th>\n",
       "      <td>1/4/2017</td>\n",
       "      <td>2</td>\n",
       "      <td>SARNESWARA TRADERS</td>\n",
       "      <td>VISHNU CHOTA WINE</td>\n",
       "      <td>500</td>\n",
       "      <td>23.0</td>\n",
       "    </tr>\n",
       "    <tr>\n",
       "      <th>3</th>\n",
       "      <td>1/4/2017</td>\n",
       "      <td>2</td>\n",
       "      <td>SARNESWARA TRADERS</td>\n",
       "      <td>LITE FOAM(1200)</td>\n",
       "      <td>6</td>\n",
       "      <td>1620.0</td>\n",
       "    </tr>\n",
       "    <tr>\n",
       "      <th>4</th>\n",
       "      <td>1/4/2017</td>\n",
       "      <td>2</td>\n",
       "      <td>SARNESWARA TRADERS</td>\n",
       "      <td>DONA-VAI-9100</td>\n",
       "      <td>5</td>\n",
       "      <td>1690.0</td>\n",
       "    </tr>\n",
       "  </tbody>\n",
       "</table>\n",
       "</div>"
      ],
      "text/plain": [
       "       Date  Voucher               Party            Product  Qty    Rate\n",
       "0  1/4/2017        1    SOLANKI PLASTICS      DONA-VAI-9100    2  1690.0\n",
       "1  1/4/2017        1    SOLANKI PLASTICS    LITE FOAM(1200)    6  1620.0\n",
       "2  1/4/2017        2  SARNESWARA TRADERS  VISHNU CHOTA WINE  500    23.0\n",
       "3  1/4/2017        2  SARNESWARA TRADERS    LITE FOAM(1200)    6  1620.0\n",
       "4  1/4/2017        2  SARNESWARA TRADERS      DONA-VAI-9100    5  1690.0"
      ]
     },
     "execution_count": 9,
     "metadata": {},
     "output_type": "execute_result"
    }
   ],
   "source": [
    "sales_clean_data.head()"
   ]
  },
  {
   "cell_type": "code",
   "execution_count": 8,
   "id": "4bd8c1ca",
   "metadata": {},
   "outputs": [],
   "source": [
    "sales_data['Date'] = pd.to_datetime(sales_data['Date'], errors='coerce')"
   ]
  },
  {
   "cell_type": "code",
   "execution_count": 9,
   "id": "3791965e",
   "metadata": {},
   "outputs": [],
   "source": [
    "sales_data['Voucher']=sales_data['Voucher'].str.replace('Sal:',\"\")\n",
    "sales_data['Voucher'] = pd.to_numeric(sales_data['Voucher'], errors='coerce')\n",
    "sales_data['Voucher'] = sales_data['Voucher'].replace(np.nan, 0, regex=True)\n",
    "sales_data['Voucher'] = sales_data['Voucher'].astype(int)"
   ]
  },
  {
   "cell_type": "code",
   "execution_count": 10,
   "id": "d2736561",
   "metadata": {},
   "outputs": [],
   "source": [
    "sales_data['Qty'] = pd.to_numeric(sales_data['Qty'], errors='coerce')\n",
    "sales_data['Qty'] = sales_data['Qty'].replace(np.nan, 0, regex=True)\n",
    "sales_data['Qty'] = sales_data['Qty'].astype(int)"
   ]
  },
  {
   "cell_type": "code",
   "execution_count": 11,
   "id": "c9f63538",
   "metadata": {},
   "outputs": [],
   "source": [
    "sales_data['Rate'] = pd.to_numeric(sales_data['Rate'], errors='coerce')"
   ]
  },
  {
   "cell_type": "code",
   "execution_count": 12,
   "id": "e378c146",
   "metadata": {},
   "outputs": [],
   "source": [
    "sales_data = sales_data.iloc[:, 0:6]"
   ]
  },
  {
   "cell_type": "code",
   "execution_count": 13,
   "id": "7db0ed48",
   "metadata": {
    "scrolled": true
   },
   "outputs": [
    {
     "data": {
      "text/plain": [
       "Date       15644\n",
       "Voucher        0\n",
       "Party         40\n",
       "Product    12591\n",
       "Qty            0\n",
       "Rate       21454\n",
       "dtype: int64"
      ]
     },
     "execution_count": 13,
     "metadata": {},
     "output_type": "execute_result"
    }
   ],
   "source": [
    "sales_data.isna().sum()"
   ]
  },
  {
   "cell_type": "code",
   "execution_count": 14,
   "id": "ec52cfea",
   "metadata": {},
   "outputs": [],
   "source": [
    "sales_data = sales_data.dropna(subset = [\"Date\"], inplace=False)"
   ]
  },
  {
   "cell_type": "code",
   "execution_count": 15,
   "id": "27b762b2",
   "metadata": {},
   "outputs": [
    {
     "data": {
      "text/plain": [
       "Date       datetime64[ns]\n",
       "Voucher             int32\n",
       "Party              object\n",
       "Product            object\n",
       "Qty                 int32\n",
       "Rate              float64\n",
       "dtype: object"
      ]
     },
     "execution_count": 15,
     "metadata": {},
     "output_type": "execute_result"
    }
   ],
   "source": [
    "sales_data.dtypes"
   ]
  },
  {
   "cell_type": "code",
   "execution_count": 16,
   "id": "1c330f8b",
   "metadata": {},
   "outputs": [
    {
     "data": {
      "text/plain": [
       "Date        object\n",
       "Voucher      int64\n",
       "Party       object\n",
       "Product     object\n",
       "Qty          int64\n",
       "Rate       float64\n",
       "dtype: object"
      ]
     },
     "execution_count": 16,
     "metadata": {},
     "output_type": "execute_result"
    }
   ],
   "source": [
    "sales_clean_data.dtypes"
   ]
  },
  {
   "cell_type": "code",
   "execution_count": 17,
   "id": "590403d6",
   "metadata": {},
   "outputs": [
    {
     "data": {
      "text/plain": [
       "(95562, 6)"
      ]
     },
     "execution_count": 17,
     "metadata": {},
     "output_type": "execute_result"
    }
   ],
   "source": [
    "sales_data.shape"
   ]
  },
  {
   "cell_type": "code",
   "execution_count": 18,
   "id": "3b24aba5",
   "metadata": {},
   "outputs": [
    {
     "data": {
      "text/plain": [
       "(95562, 6)"
      ]
     },
     "execution_count": 18,
     "metadata": {},
     "output_type": "execute_result"
    }
   ],
   "source": [
    "sales_clean_data.shape"
   ]
  }
 ],
 "metadata": {
  "kernelspec": {
   "display_name": "Python 3",
   "language": "python",
   "name": "python3"
  },
  "language_info": {
   "codemirror_mode": {
    "name": "ipython",
    "version": 3
   },
   "file_extension": ".py",
   "mimetype": "text/x-python",
   "name": "python",
   "nbconvert_exporter": "python",
   "pygments_lexer": "ipython3",
   "version": "3.8.8"
  }
 },
 "nbformat": 4,
 "nbformat_minor": 5
}
