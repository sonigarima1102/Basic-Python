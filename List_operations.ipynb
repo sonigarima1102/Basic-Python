{
 "cells": [
  {
   "cell_type": "markdown",
   "id": "283285ba",
   "metadata": {},
   "source": [
    "# List"
   ]
  },
  {
   "cell_type": "code",
   "execution_count": 2,
   "id": "ceb5520f",
   "metadata": {},
   "outputs": [],
   "source": [
    "mylist = [1,2,3,4,5,6,7,8]"
   ]
  },
  {
   "cell_type": "code",
   "execution_count": 7,
   "id": "1d8a9b2c",
   "metadata": {},
   "outputs": [],
   "source": [
    "mylist.append(10)"
   ]
  },
  {
   "cell_type": "code",
   "execution_count": 4,
   "id": "051fcc9f",
   "metadata": {},
   "outputs": [
    {
     "data": {
      "text/plain": [
       "[1, 2, 3, 4, 5, 6, 7, 8, 10]"
      ]
     },
     "execution_count": 4,
     "metadata": {},
     "output_type": "execute_result"
    }
   ],
   "source": [
    "mylist"
   ]
  },
  {
   "cell_type": "code",
   "execution_count": 8,
   "id": "ce3ddab9",
   "metadata": {},
   "outputs": [],
   "source": [
    "mylist.clear()"
   ]
  },
  {
   "cell_type": "code",
   "execution_count": 9,
   "id": "35233f29",
   "metadata": {},
   "outputs": [
    {
     "data": {
      "text/plain": [
       "[]"
      ]
     },
     "execution_count": 9,
     "metadata": {},
     "output_type": "execute_result"
    }
   ],
   "source": [
    "mylist"
   ]
  },
  {
   "cell_type": "code",
   "execution_count": 3,
   "id": "01310c70",
   "metadata": {},
   "outputs": [],
   "source": [
    "mylist = [1,2,3,4,5,6,7,8]"
   ]
  },
  {
   "cell_type": "code",
   "execution_count": 4,
   "id": "1ae7d105",
   "metadata": {},
   "outputs": [],
   "source": [
    "numbers = mylist.copy()"
   ]
  },
  {
   "cell_type": "code",
   "execution_count": 5,
   "id": "5b227f79",
   "metadata": {},
   "outputs": [
    {
     "data": {
      "text/plain": [
       "1"
      ]
     },
     "execution_count": 5,
     "metadata": {},
     "output_type": "execute_result"
    }
   ],
   "source": [
    "mylist.count(4)"
   ]
  },
  {
   "cell_type": "code",
   "execution_count": 6,
   "id": "e61c41b1",
   "metadata": {},
   "outputs": [],
   "source": [
    "mylist.extend(numbers)"
   ]
  },
  {
   "cell_type": "code",
   "execution_count": 7,
   "id": "e17c7713",
   "metadata": {},
   "outputs": [
    {
     "data": {
      "text/plain": [
       "[1, 2, 3, 4, 5, 6, 7, 8, 1, 2, 3, 4, 5, 6, 7, 8]"
      ]
     },
     "execution_count": 7,
     "metadata": {},
     "output_type": "execute_result"
    }
   ],
   "source": [
    "mylist"
   ]
  },
  {
   "cell_type": "code",
   "execution_count": 8,
   "id": "03e34238",
   "metadata": {},
   "outputs": [
    {
     "data": {
      "text/plain": [
       "7"
      ]
     },
     "execution_count": 8,
     "metadata": {},
     "output_type": "execute_result"
    }
   ],
   "source": [
    "mylist.index(8)"
   ]
  },
  {
   "cell_type": "code",
   "execution_count": 9,
   "id": "c1f80f96",
   "metadata": {},
   "outputs": [],
   "source": [
    "mylist.insert(10, 12)"
   ]
  },
  {
   "cell_type": "code",
   "execution_count": 10,
   "id": "f9ffb15e",
   "metadata": {},
   "outputs": [
    {
     "data": {
      "text/plain": [
       "[1, 2, 3, 4, 5, 6, 7, 8, 1, 2, 12, 3, 4, 5, 6, 7, 8]"
      ]
     },
     "execution_count": 10,
     "metadata": {},
     "output_type": "execute_result"
    }
   ],
   "source": [
    "mylist"
   ]
  },
  {
   "cell_type": "code",
   "execution_count": 11,
   "id": "c839f390",
   "metadata": {},
   "outputs": [
    {
     "data": {
      "text/plain": [
       "5"
      ]
     },
     "execution_count": 11,
     "metadata": {},
     "output_type": "execute_result"
    }
   ],
   "source": [
    "mylist.pop(4)"
   ]
  },
  {
   "cell_type": "code",
   "execution_count": 12,
   "id": "c89069fd",
   "metadata": {},
   "outputs": [
    {
     "data": {
      "text/plain": [
       "[1, 2, 3, 4, 6, 7, 8, 1, 2, 12, 3, 4, 5, 6, 7, 8]"
      ]
     },
     "execution_count": 12,
     "metadata": {},
     "output_type": "execute_result"
    }
   ],
   "source": [
    "mylist"
   ]
  },
  {
   "cell_type": "code",
   "execution_count": 13,
   "id": "fe2535a9",
   "metadata": {},
   "outputs": [],
   "source": [
    "mylist.remove(1)                                    # Difference between del, remove, and pop on lists\n",
    "                                                    # a=[1,2,3]\n",
    "                                                    # a.remove(2)\n",
    "                                                    # a\n",
    "                                                    # [1, 3]\n",
    "                                                    # a=[1,2,3]\n",
    "                                                    # del a[1]\n",
    "                                                    # a\n",
    "                                                    # [1, 3]\n",
    "                                                    # a= [1,2,3]\n",
    "                                                    # a.pop(1)\n",
    "                                                    # 2\n",
    "                                                    # a\n",
    "                                                    # [1, 3]"
   ]
  },
  {
   "cell_type": "code",
   "execution_count": 14,
   "id": "a0a67c2b",
   "metadata": {},
   "outputs": [
    {
     "data": {
      "text/plain": [
       "[2, 3, 4, 6, 7, 8, 1, 2, 12, 3, 4, 5, 6, 7, 8]"
      ]
     },
     "execution_count": 14,
     "metadata": {},
     "output_type": "execute_result"
    }
   ],
   "source": [
    "mylist"
   ]
  },
  {
   "cell_type": "code",
   "execution_count": 16,
   "id": "9d5a8c95",
   "metadata": {},
   "outputs": [],
   "source": [
    "mylist.reverse()"
   ]
  },
  {
   "cell_type": "code",
   "execution_count": 17,
   "id": "a09768eb",
   "metadata": {},
   "outputs": [
    {
     "data": {
      "text/plain": [
       "[8, 7, 6, 5, 4, 3, 12, 2, 1, 8, 7, 6, 4, 3, 2]"
      ]
     },
     "execution_count": 17,
     "metadata": {},
     "output_type": "execute_result"
    }
   ],
   "source": [
    "mylist"
   ]
  },
  {
   "cell_type": "code",
   "execution_count": 18,
   "id": "bd4763a3",
   "metadata": {},
   "outputs": [],
   "source": [
    "mylist.sort()"
   ]
  },
  {
   "cell_type": "code",
   "execution_count": 19,
   "id": "881811fb",
   "metadata": {},
   "outputs": [
    {
     "data": {
      "text/plain": [
       "[1, 2, 2, 3, 3, 4, 4, 5, 6, 6, 7, 7, 8, 8, 12]"
      ]
     },
     "execution_count": 19,
     "metadata": {},
     "output_type": "execute_result"
    }
   ],
   "source": [
    "mylist"
   ]
  },
  {
   "cell_type": "markdown",
   "id": "4ffc897a",
   "metadata": {},
   "source": [
    "# Sets"
   ]
  },
  {
   "cell_type": "code",
   "execution_count": 27,
   "id": "badd16a6",
   "metadata": {},
   "outputs": [],
   "source": [
    "myset = set(\"Duplicate\")"
   ]
  },
  {
   "cell_type": "code",
   "execution_count": 28,
   "id": "b429d5bc",
   "metadata": {},
   "outputs": [
    {
     "data": {
      "text/plain": [
       "{'D', 'a', 'c', 'e', 'i', 'l', 'p', 't', 'u'}"
      ]
     },
     "execution_count": 28,
     "metadata": {},
     "output_type": "execute_result"
    }
   ],
   "source": [
    "myset"
   ]
  },
  {
   "cell_type": "code",
   "execution_count": 29,
   "id": "4acb4be3",
   "metadata": {},
   "outputs": [],
   "source": [
    "myset.add(\"NotAllowed\")"
   ]
  },
  {
   "cell_type": "code",
   "execution_count": 30,
   "id": "b6d3d1a3",
   "metadata": {},
   "outputs": [
    {
     "data": {
      "text/plain": [
       "{'D', 'NotAllowed', 'a', 'c', 'e', 'i', 'l', 'p', 't', 'u'}"
      ]
     },
     "execution_count": 30,
     "metadata": {},
     "output_type": "execute_result"
    }
   ],
   "source": [
    "myset"
   ]
  },
  {
   "cell_type": "code",
   "execution_count": 31,
   "id": "e46dc57d",
   "metadata": {},
   "outputs": [],
   "source": [
    "myset.clear()"
   ]
  },
  {
   "cell_type": "code",
   "execution_count": 32,
   "id": "42f3565a",
   "metadata": {},
   "outputs": [
    {
     "data": {
      "text/plain": [
       "set()"
      ]
     },
     "execution_count": 32,
     "metadata": {},
     "output_type": "execute_result"
    }
   ],
   "source": [
    "myset"
   ]
  },
  {
   "cell_type": "code",
   "execution_count": 54,
   "id": "72bbd61d",
   "metadata": {},
   "outputs": [],
   "source": [
    "myset1 = {1,2,3}\n",
    "myset2 = {1,3,6}"
   ]
  },
  {
   "cell_type": "code",
   "execution_count": 55,
   "id": "39bb107d",
   "metadata": {},
   "outputs": [
    {
     "data": {
      "text/plain": [
       "{2}"
      ]
     },
     "execution_count": 55,
     "metadata": {},
     "output_type": "execute_result"
    }
   ],
   "source": [
    "myset1.difference(myset2)               # value present only in myset1"
   ]
  },
  {
   "cell_type": "code",
   "execution_count": 56,
   "id": "443dd742",
   "metadata": {},
   "outputs": [
    {
     "data": {
      "text/plain": [
       "{6}"
      ]
     },
     "execution_count": 56,
     "metadata": {},
     "output_type": "execute_result"
    }
   ],
   "source": [
    "myset2.difference(myset1)               # value present only in myset2 "
   ]
  },
  {
   "cell_type": "code",
   "execution_count": 57,
   "id": "eeb17128",
   "metadata": {},
   "outputs": [],
   "source": [
    "myset1.difference_update(myset2)        # removes values from myset1 which are common in both set"
   ]
  },
  {
   "cell_type": "code",
   "execution_count": 58,
   "id": "d05b348e",
   "metadata": {},
   "outputs": [
    {
     "data": {
      "text/plain": [
       "{2}"
      ]
     },
     "execution_count": 58,
     "metadata": {},
     "output_type": "execute_result"
    }
   ],
   "source": [
    "myset1"
   ]
  },
  {
   "cell_type": "code",
   "execution_count": 59,
   "id": "fbe6ec2f",
   "metadata": {},
   "outputs": [],
   "source": [
    "myset3 = {3, 7, 9}"
   ]
  },
  {
   "cell_type": "code",
   "execution_count": 60,
   "id": "dabd6e5b",
   "metadata": {},
   "outputs": [
    {
     "data": {
      "text/plain": [
       "{1, 3, 6}"
      ]
     },
     "execution_count": 60,
     "metadata": {},
     "output_type": "execute_result"
    }
   ],
   "source": [
    "myset2"
   ]
  },
  {
   "cell_type": "code",
   "execution_count": 61,
   "id": "20926b7a",
   "metadata": {},
   "outputs": [],
   "source": [
    "myset2.difference_update(myset3)        # removes values from myset2 which are common in both set"
   ]
  },
  {
   "cell_type": "code",
   "execution_count": 62,
   "id": "98eda088",
   "metadata": {},
   "outputs": [
    {
     "data": {
      "text/plain": [
       "{1, 6}"
      ]
     },
     "execution_count": 62,
     "metadata": {},
     "output_type": "execute_result"
    }
   ],
   "source": [
    "myset2"
   ]
  },
  {
   "cell_type": "code",
   "execution_count": 63,
   "id": "e2503f77",
   "metadata": {},
   "outputs": [
    {
     "data": {
      "text/plain": [
       "{3, 7, 9}"
      ]
     },
     "execution_count": 63,
     "metadata": {},
     "output_type": "execute_result"
    }
   ],
   "source": [
    "myset3"
   ]
  },
  {
   "cell_type": "code",
   "execution_count": 64,
   "id": "19f85fce",
   "metadata": {},
   "outputs": [],
   "source": [
    "myset3.discard(3)"
   ]
  },
  {
   "cell_type": "code",
   "execution_count": 65,
   "id": "9af05560",
   "metadata": {},
   "outputs": [
    {
     "data": {
      "text/plain": [
       "{7, 9}"
      ]
     },
     "execution_count": 65,
     "metadata": {},
     "output_type": "execute_result"
    }
   ],
   "source": [
    "myset3"
   ]
  },
  {
   "cell_type": "code",
   "execution_count": 66,
   "id": "4361e4a5",
   "metadata": {},
   "outputs": [],
   "source": [
    "myset4 = {\"Rohini\", \"Kanchan\", \"Pradeep\"}\n",
    "myset5 = {\"Kanchan\", \"Rahul\", \"Siddharth\"}"
   ]
  },
  {
   "cell_type": "code",
   "execution_count": 67,
   "id": "9cfe6e57",
   "metadata": {},
   "outputs": [
    {
     "data": {
      "text/plain": [
       "{'Kanchan'}"
      ]
     },
     "execution_count": 67,
     "metadata": {},
     "output_type": "execute_result"
    }
   ],
   "source": [
    "myset4.intersection(myset5)"
   ]
  },
  {
   "cell_type": "code",
   "execution_count": 70,
   "id": "37423e7b",
   "metadata": {},
   "outputs": [
    {
     "data": {
      "text/plain": [
       "{'Kanchan', 'Pradeep', 'Rohini'}"
      ]
     },
     "execution_count": 70,
     "metadata": {},
     "output_type": "execute_result"
    }
   ],
   "source": [
    "myset4                                            # gives common elements"
   ]
  },
  {
   "cell_type": "code",
   "execution_count": 71,
   "id": "449c909e",
   "metadata": {},
   "outputs": [],
   "source": [
    "myset4.intersection_update(myset5)"
   ]
  },
  {
   "cell_type": "code",
   "execution_count": 72,
   "id": "d903d90b",
   "metadata": {},
   "outputs": [
    {
     "data": {
      "text/plain": [
       "{'Kanchan'}"
      ]
     },
     "execution_count": 72,
     "metadata": {},
     "output_type": "execute_result"
    }
   ],
   "source": [
    "myset4                                            # removes all elements which are not present in other set"
   ]
  },
  {
   "cell_type": "code",
   "execution_count": 73,
   "id": "82a2ddd9",
   "metadata": {},
   "outputs": [
    {
     "data": {
      "text/plain": [
       "{'Kanchan', 'Rahul', 'Siddharth'}"
      ]
     },
     "execution_count": 73,
     "metadata": {},
     "output_type": "execute_result"
    }
   ],
   "source": [
    "myset5"
   ]
  },
  {
   "cell_type": "code",
   "execution_count": 74,
   "id": "3918d29f",
   "metadata": {},
   "outputs": [],
   "source": [
    "myset6 = {\"pradeep\", \"sagar\", \"kannula\"}"
   ]
  },
  {
   "cell_type": "code",
   "execution_count": 75,
   "id": "e299c3f2",
   "metadata": {},
   "outputs": [
    {
     "data": {
      "text/plain": [
       "True"
      ]
     },
     "execution_count": 75,
     "metadata": {},
     "output_type": "execute_result"
    }
   ],
   "source": [
    "myset5.isdisjoint(myset6)                           # True if no common items are present in both sets"
   ]
  },
  {
   "cell_type": "code",
   "execution_count": 76,
   "id": "d4a4356e",
   "metadata": {},
   "outputs": [],
   "source": [
    "myset7 = {'a','b','c','d'}\n",
    "myset8 = {'x','y','z','a','b','c','d'}"
   ]
  },
  {
   "cell_type": "code",
   "execution_count": 77,
   "id": "54db31b2",
   "metadata": {},
   "outputs": [
    {
     "data": {
      "text/plain": [
       "True"
      ]
     },
     "execution_count": 77,
     "metadata": {},
     "output_type": "execute_result"
    }
   ],
   "source": [
    "myset7.issubset(myset8)"
   ]
  },
  {
   "cell_type": "code",
   "execution_count": 78,
   "id": "db5f37bd",
   "metadata": {},
   "outputs": [
    {
     "data": {
      "text/plain": [
       "True"
      ]
     },
     "execution_count": 78,
     "metadata": {},
     "output_type": "execute_result"
    }
   ],
   "source": [
    "myset8.issuperset(myset7)"
   ]
  },
  {
   "cell_type": "code",
   "execution_count": 83,
   "id": "2ea025d6",
   "metadata": {},
   "outputs": [
    {
     "data": {
      "text/plain": [
       "'c'"
      ]
     },
     "execution_count": 83,
     "metadata": {},
     "output_type": "execute_result"
    }
   ],
   "source": [
    "myset8.pop()                                             # removes a random element from the set"
   ]
  },
  {
   "cell_type": "code",
   "execution_count": 84,
   "id": "a32c023f",
   "metadata": {},
   "outputs": [
    {
     "data": {
      "text/plain": [
       "{'a', 'b', 'd', 'x', 'y', 'z'}"
      ]
     },
     "execution_count": 84,
     "metadata": {},
     "output_type": "execute_result"
    }
   ],
   "source": [
    "myset8"
   ]
  },
  {
   "cell_type": "code",
   "execution_count": 86,
   "id": "513f8be6",
   "metadata": {},
   "outputs": [],
   "source": [
    "myset8.remove('x')"
   ]
  },
  {
   "cell_type": "code",
   "execution_count": 87,
   "id": "9605d42a",
   "metadata": {},
   "outputs": [
    {
     "data": {
      "text/plain": [
       "{'a', 'b', 'd', 'y', 'z'}"
      ]
     },
     "execution_count": 87,
     "metadata": {},
     "output_type": "execute_result"
    }
   ],
   "source": [
    "myset8"
   ]
  },
  {
   "cell_type": "code",
   "execution_count": 88,
   "id": "7346e51d",
   "metadata": {},
   "outputs": [],
   "source": [
    "myset9 = {1,2,5,8,3,9}\n",
    "myset10 = {8,5,3,9,10}"
   ]
  },
  {
   "cell_type": "code",
   "execution_count": 89,
   "id": "9fa13e05",
   "metadata": {},
   "outputs": [
    {
     "data": {
      "text/plain": [
       "{1, 2, 10}"
      ]
     },
     "execution_count": 89,
     "metadata": {},
     "output_type": "execute_result"
    }
   ],
   "source": [
    "myset9.symmetric_difference(myset10)                        # returns which are not common in both the sets"
   ]
  },
  {
   "cell_type": "code",
   "execution_count": 90,
   "id": "9e777883",
   "metadata": {},
   "outputs": [
    {
     "data": {
      "text/plain": [
       "{1, 2, 3, 5, 8, 9}"
      ]
     },
     "execution_count": 90,
     "metadata": {},
     "output_type": "execute_result"
    }
   ],
   "source": [
    "myset9"
   ]
  },
  {
   "cell_type": "code",
   "execution_count": 91,
   "id": "8a55eb6c",
   "metadata": {},
   "outputs": [],
   "source": [
    "myset9.symmetric_difference_update(myset10)                  # update the symmetric set"
   ]
  },
  {
   "cell_type": "code",
   "execution_count": 92,
   "id": "882e62e7",
   "metadata": {},
   "outputs": [
    {
     "data": {
      "text/plain": [
       "{1, 2, 10}"
      ]
     },
     "execution_count": 92,
     "metadata": {},
     "output_type": "execute_result"
    }
   ],
   "source": [
    "myset9            "
   ]
  },
  {
   "cell_type": "code",
   "execution_count": 93,
   "id": "76f9c1be",
   "metadata": {},
   "outputs": [
    {
     "data": {
      "text/plain": [
       "{3, 5, 8, 9, 10}"
      ]
     },
     "execution_count": 93,
     "metadata": {},
     "output_type": "execute_result"
    }
   ],
   "source": [
    "myset10"
   ]
  },
  {
   "cell_type": "code",
   "execution_count": 94,
   "id": "cebb74a6",
   "metadata": {},
   "outputs": [],
   "source": [
    "myset11 = {1,2,9,8,10}"
   ]
  },
  {
   "cell_type": "code",
   "execution_count": 95,
   "id": "1efa2173",
   "metadata": {},
   "outputs": [
    {
     "data": {
      "text/plain": [
       "{1, 2, 3, 5, 8, 9, 10}"
      ]
     },
     "execution_count": 95,
     "metadata": {},
     "output_type": "execute_result"
    }
   ],
   "source": [
    "myset10.union(myset11)                                         # union of two sets"
   ]
  },
  {
   "cell_type": "code",
   "execution_count": 96,
   "id": "693fc9ec",
   "metadata": {},
   "outputs": [
    {
     "data": {
      "text/plain": [
       "{3, 5, 8, 9, 10}"
      ]
     },
     "execution_count": 96,
     "metadata": {},
     "output_type": "execute_result"
    }
   ],
   "source": [
    "myset10"
   ]
  },
  {
   "cell_type": "code",
   "execution_count": 98,
   "id": "e39d30f2",
   "metadata": {},
   "outputs": [],
   "source": [
    "myset10.update(myset11)                                        # update the union in 1st set"
   ]
  },
  {
   "cell_type": "code",
   "execution_count": 99,
   "id": "849f5529",
   "metadata": {},
   "outputs": [
    {
     "data": {
      "text/plain": [
       "{1, 2, 3, 5, 8, 9, 10}"
      ]
     },
     "execution_count": 99,
     "metadata": {},
     "output_type": "execute_result"
    }
   ],
   "source": [
    "myset10"
   ]
  },
  {
   "cell_type": "markdown",
   "id": "28d288f1",
   "metadata": {},
   "source": [
    "# Tuples"
   ]
  },
  {
   "cell_type": "code",
   "execution_count": 103,
   "id": "50b32e22",
   "metadata": {},
   "outputs": [],
   "source": [
    "mytuple = (4,5,7,4,3,2,4,7,8)"
   ]
  },
  {
   "cell_type": "code",
   "execution_count": 104,
   "id": "3dbff988",
   "metadata": {},
   "outputs": [
    {
     "data": {
      "text/plain": [
       "tuple"
      ]
     },
     "execution_count": 104,
     "metadata": {},
     "output_type": "execute_result"
    }
   ],
   "source": [
    "type(mytuple)"
   ]
  },
  {
   "cell_type": "code",
   "execution_count": 105,
   "id": "151dff5d",
   "metadata": {},
   "outputs": [
    {
     "data": {
      "text/plain": [
       "3"
      ]
     },
     "execution_count": 105,
     "metadata": {},
     "output_type": "execute_result"
    }
   ],
   "source": [
    "mytuple.count(4)"
   ]
  },
  {
   "cell_type": "code",
   "execution_count": 106,
   "id": "b28be158",
   "metadata": {},
   "outputs": [
    {
     "data": {
      "text/plain": [
       "0"
      ]
     },
     "execution_count": 106,
     "metadata": {},
     "output_type": "execute_result"
    }
   ],
   "source": [
    "mytuple.index(4)"
   ]
  },
  {
   "cell_type": "markdown",
   "id": "602097d7",
   "metadata": {},
   "source": [
    "# Dictionaries"
   ]
  },
  {
   "cell_type": "code",
   "execution_count": 113,
   "id": "8aac9121",
   "metadata": {},
   "outputs": [],
   "source": [
    "details = {\"name\": [\"Reshu\", \"Garima\", \"Neha\"],\n",
    "          \"age\" : [23, 25, 28]}"
   ]
  },
  {
   "cell_type": "code",
   "execution_count": 114,
   "id": "09eda5f5",
   "metadata": {},
   "outputs": [
    {
     "data": {
      "text/plain": [
       "dict"
      ]
     },
     "execution_count": 114,
     "metadata": {},
     "output_type": "execute_result"
    }
   ],
   "source": [
    "type(details)"
   ]
  },
  {
   "cell_type": "code",
   "execution_count": 115,
   "id": "f1ac4865",
   "metadata": {},
   "outputs": [
    {
     "data": {
      "text/plain": [
       "dict_keys(['name', 'age'])"
      ]
     },
     "execution_count": 115,
     "metadata": {},
     "output_type": "execute_result"
    }
   ],
   "source": [
    "details.keys()"
   ]
  },
  {
   "cell_type": "code",
   "execution_count": 116,
   "id": "5f631378",
   "metadata": {},
   "outputs": [
    {
     "data": {
      "text/plain": [
       "dict_values([['Reshu', 'Garima', 'Neha'], [23, 25, 28]])"
      ]
     },
     "execution_count": 116,
     "metadata": {},
     "output_type": "execute_result"
    }
   ],
   "source": [
    "details.values()"
   ]
  },
  {
   "cell_type": "code",
   "execution_count": 117,
   "id": "e45f174b",
   "metadata": {},
   "outputs": [],
   "source": [
    "new = details.copy()"
   ]
  },
  {
   "cell_type": "code",
   "execution_count": 118,
   "id": "02b02388",
   "metadata": {},
   "outputs": [
    {
     "data": {
      "text/plain": [
       "{'name': ['Reshu', 'Garima', 'Neha'], 'age': [23, 25, 28]}"
      ]
     },
     "execution_count": 118,
     "metadata": {},
     "output_type": "execute_result"
    }
   ],
   "source": [
    "new"
   ]
  },
  {
   "cell_type": "code",
   "execution_count": 119,
   "id": "0047b6e8",
   "metadata": {},
   "outputs": [],
   "source": [
    "x = ('key1', 'key2', 'key3')"
   ]
  },
  {
   "cell_type": "code",
   "execution_count": 121,
   "id": "cdaf6f93",
   "metadata": {},
   "outputs": [],
   "source": [
    "dict1 = dict.fromkeys(x)"
   ]
  },
  {
   "cell_type": "code",
   "execution_count": 122,
   "id": "8beac646",
   "metadata": {},
   "outputs": [
    {
     "data": {
      "text/plain": [
       "{'key1': None, 'key2': None, 'key3': None}"
      ]
     },
     "execution_count": 122,
     "metadata": {},
     "output_type": "execute_result"
    }
   ],
   "source": [
    "dict1"
   ]
  },
  {
   "cell_type": "code",
   "execution_count": 126,
   "id": "9e2bd3fc",
   "metadata": {},
   "outputs": [
    {
     "data": {
      "text/plain": [
       "['Reshu', 'Garima', 'Neha']"
      ]
     },
     "execution_count": 126,
     "metadata": {},
     "output_type": "execute_result"
    }
   ],
   "source": [
    "details.get('name')"
   ]
  },
  {
   "cell_type": "code",
   "execution_count": 127,
   "id": "f751f169",
   "metadata": {},
   "outputs": [
    {
     "data": {
      "text/plain": [
       "dict_items([('name', ['Reshu', 'Garima', 'Neha']), ('age', [23, 25, 28])])"
      ]
     },
     "execution_count": 127,
     "metadata": {},
     "output_type": "execute_result"
    }
   ],
   "source": [
    "details.items()"
   ]
  },
  {
   "cell_type": "code",
   "execution_count": 128,
   "id": "7c91ff66",
   "metadata": {},
   "outputs": [
    {
     "data": {
      "text/plain": [
       "[23, 25, 28]"
      ]
     },
     "execution_count": 128,
     "metadata": {},
     "output_type": "execute_result"
    }
   ],
   "source": [
    "details.pop(\"age\")                                        # pop removes last item -FILO - first In Last out"
   ]
  },
  {
   "cell_type": "code",
   "execution_count": 131,
   "id": "c63b483f",
   "metadata": {},
   "outputs": [
    {
     "data": {
      "text/plain": [
       "{'name': ['Reshu', 'Garima', 'Neha']}"
      ]
     },
     "execution_count": 131,
     "metadata": {},
     "output_type": "execute_result"
    }
   ],
   "source": [
    "new                                                           "
   ]
  },
  {
   "cell_type": "code",
   "execution_count": 132,
   "id": "bd9d79af",
   "metadata": {},
   "outputs": [],
   "source": [
    "stu = {'ria': 25, 'rahul': 32, 'neha': 30}"
   ]
  },
  {
   "cell_type": "code",
   "execution_count": 133,
   "id": "2bef4a2e",
   "metadata": {},
   "outputs": [
    {
     "data": {
      "text/plain": [
       "{'ria': 25, 'rahul': 32, 'neha': 30}"
      ]
     },
     "execution_count": 133,
     "metadata": {},
     "output_type": "execute_result"
    }
   ],
   "source": [
    "stu"
   ]
  },
  {
   "cell_type": "code",
   "execution_count": 138,
   "id": "55d33391",
   "metadata": {},
   "outputs": [
    {
     "data": {
      "text/plain": [
       "33"
      ]
     },
     "execution_count": 138,
     "metadata": {},
     "output_type": "execute_result"
    }
   ],
   "source": [
    "stu.setdefault('Nitin', 33)                             #The setdefault() method returns the value of a key \n",
    "                                                        #(if the key is in dictionary). If not, it inserts key with a \n",
    "                                                        #value to the dictionary."
   ]
  },
  {
   "cell_type": "code",
   "execution_count": 137,
   "id": "624cb3f6",
   "metadata": {},
   "outputs": [
    {
     "data": {
      "text/plain": [
       "{'ria': 25, 'rahul': 32, 'neha': 30, 'Nitin': 33}"
      ]
     },
     "execution_count": 137,
     "metadata": {},
     "output_type": "execute_result"
    }
   ],
   "source": [
    "stu"
   ]
  },
  {
   "cell_type": "code",
   "execution_count": 140,
   "id": "fff099bb",
   "metadata": {},
   "outputs": [],
   "source": [
    "stu.update({'Naveen' : 28})"
   ]
  },
  {
   "cell_type": "code",
   "execution_count": 141,
   "id": "a47b1e0c",
   "metadata": {},
   "outputs": [
    {
     "data": {
      "text/plain": [
       "{'ria': 25, 'rahul': 32, 'neha': 30, 'Nitin': 33, 'Naveen': 28}"
      ]
     },
     "execution_count": 141,
     "metadata": {},
     "output_type": "execute_result"
    }
   ],
   "source": [
    "stu"
   ]
  },
  {
   "cell_type": "code",
   "execution_count": 142,
   "id": "57b52a5f",
   "metadata": {},
   "outputs": [],
   "source": [
    "details.clear()"
   ]
  },
  {
   "cell_type": "code",
   "execution_count": 144,
   "id": "99f1bb8c",
   "metadata": {},
   "outputs": [
    {
     "data": {
      "text/plain": [
       "{}"
      ]
     },
     "execution_count": 144,
     "metadata": {},
     "output_type": "execute_result"
    }
   ],
   "source": [
    "details"
   ]
  },
  {
   "cell_type": "code",
   "execution_count": null,
   "id": "29c5ddd7",
   "metadata": {},
   "outputs": [],
   "source": []
  }
 ],
 "metadata": {
  "kernelspec": {
   "display_name": "Python 3",
   "language": "python",
   "name": "python3"
  },
  "language_info": {
   "codemirror_mode": {
    "name": "ipython",
    "version": 3
   },
   "file_extension": ".py",
   "mimetype": "text/x-python",
   "name": "python",
   "nbconvert_exporter": "python",
   "pygments_lexer": "ipython3",
   "version": "3.8.8"
  }
 },
 "nbformat": 4,
 "nbformat_minor": 5
}
