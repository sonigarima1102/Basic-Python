{
 "cells": [
  {
   "cell_type": "markdown",
   "id": "40ecfc77",
   "metadata": {},
   "source": [
    "### Python String Operations"
   ]
  },
  {
   "cell_type": "markdown",
   "id": "acdc0397",
   "metadata": {},
   "source": [
    "###### capitalize()"
   ]
  },
  {
   "cell_type": "code",
   "execution_count": 3,
   "id": "f2ca2412",
   "metadata": {},
   "outputs": [],
   "source": [
    "my_string = \"this is my first string.\""
   ]
  },
  {
   "cell_type": "code",
   "execution_count": 4,
   "id": "2a30ff4d",
   "metadata": {},
   "outputs": [
    {
     "data": {
      "text/plain": [
       "'this is my first string.'"
      ]
     },
     "execution_count": 4,
     "metadata": {},
     "output_type": "execute_result"
    }
   ],
   "source": [
    "my_string"
   ]
  },
  {
   "cell_type": "code",
   "execution_count": 6,
   "id": "365ce8ff",
   "metadata": {},
   "outputs": [
    {
     "data": {
      "text/plain": [
       "'This is my first string.'"
      ]
     },
     "execution_count": 6,
     "metadata": {},
     "output_type": "execute_result"
    }
   ],
   "source": [
    "my_string.capitalize() #Converts first character to upper case"
   ]
  },
  {
   "cell_type": "markdown",
   "id": "85d1c029",
   "metadata": {},
   "source": [
    "###### casefold()             Doubt : How is it different from lower()"
   ]
  },
  {
   "cell_type": "code",
   "execution_count": 7,
   "id": "6a97d347",
   "metadata": {},
   "outputs": [],
   "source": [
    "my_string1 = \"MY STRING\""
   ]
  },
  {
   "cell_type": "code",
   "execution_count": 8,
   "id": "d2c691d6",
   "metadata": {},
   "outputs": [
    {
     "data": {
      "text/plain": [
       "'my string'"
      ]
     },
     "execution_count": 8,
     "metadata": {},
     "output_type": "execute_result"
    }
   ],
   "source": [
    "my_string1.casefold()                      #Converts string into lower case"
   ]
  },
  {
   "cell_type": "markdown",
   "id": "68c4b4c2",
   "metadata": {},
   "source": [
    "###### center()   "
   ]
  },
  {
   "cell_type": "code",
   "execution_count": 17,
   "id": "36beea6b",
   "metadata": {},
   "outputs": [
    {
     "data": {
      "text/plain": [
       "'--------this is my first string.--------'"
      ]
     },
     "execution_count": 17,
     "metadata": {},
     "output_type": "execute_result"
    }
   ],
   "source": [
    "my_string.center(40, '-')"
   ]
  },
  {
   "cell_type": "markdown",
   "id": "e2b2c263",
   "metadata": {},
   "source": [
    "###### count()"
   ]
  },
  {
   "cell_type": "code",
   "execution_count": 18,
   "id": "719860a3",
   "metadata": {},
   "outputs": [
    {
     "data": {
      "text/plain": [
       "2"
      ]
     },
     "execution_count": 18,
     "metadata": {},
     "output_type": "execute_result"
    }
   ],
   "source": [
    "my_string.count('is')    # counts the repeatations."
   ]
  },
  {
   "cell_type": "markdown",
   "id": "cad83a9a",
   "metadata": {},
   "source": [
    "###### encode()   Doubt : How to use??"
   ]
  },
  {
   "cell_type": "markdown",
   "id": "391158c7",
   "metadata": {},
   "source": [
    "###### endswith()"
   ]
  },
  {
   "cell_type": "code",
   "execution_count": 21,
   "id": "c85555ad",
   "metadata": {},
   "outputs": [
    {
     "data": {
      "text/plain": [
       "True"
      ]
     },
     "execution_count": 21,
     "metadata": {},
     "output_type": "execute_result"
    }
   ],
   "source": [
    "my_string.endswith(\".\")"
   ]
  },
  {
   "cell_type": "markdown",
   "id": "c05fc40e",
   "metadata": {},
   "source": [
    "###### expandtabs()"
   ]
  },
  {
   "cell_type": "code",
   "execution_count": 32,
   "id": "1a2c34f5",
   "metadata": {},
   "outputs": [],
   "source": [
    "my_string2 = \"This\\tis\\tmy\\tnew\\tstring\""
   ]
  },
  {
   "cell_type": "code",
   "execution_count": 33,
   "id": "5ef28ebd",
   "metadata": {},
   "outputs": [
    {
     "name": "stdout",
     "output_type": "stream",
     "text": [
      "This\tis\tmy\tnew\tstring\n"
     ]
    }
   ],
   "source": [
    "print(my_string2)"
   ]
  },
  {
   "cell_type": "code",
   "execution_count": 35,
   "id": "1b882a10",
   "metadata": {},
   "outputs": [
    {
     "name": "stdout",
     "output_type": "stream",
     "text": [
      "This  is  my  new string\n"
     ]
    }
   ],
   "source": [
    "print(my_string2.expandtabs(2))"
   ]
  },
  {
   "cell_type": "markdown",
   "id": "bf7a1c9c",
   "metadata": {},
   "source": [
    "###### find()"
   ]
  },
  {
   "cell_type": "code",
   "execution_count": 39,
   "id": "36827332",
   "metadata": {},
   "outputs": [
    {
     "data": {
      "text/plain": [
       "8"
      ]
     },
     "execution_count": 39,
     "metadata": {},
     "output_type": "execute_result"
    }
   ],
   "source": [
    "my_string.find('my')"
   ]
  },
  {
   "cell_type": "markdown",
   "id": "a4d66b04",
   "metadata": {},
   "source": [
    "###### format()"
   ]
  },
  {
   "cell_type": "code",
   "execution_count": 40,
   "id": "1910f294",
   "metadata": {},
   "outputs": [
    {
     "name": "stdout",
     "output_type": "stream",
     "text": [
      "first name is Dinesh, last name is kartik, age is 44\n"
     ]
    }
   ],
   "source": [
    "print(\"first name is {}, last name is {}, age is {}\".format('Dinesh','kartik', 44))"
   ]
  },
  {
   "cell_type": "code",
   "execution_count": 42,
   "id": "6cb290ad",
   "metadata": {},
   "outputs": [
    {
     "name": "stdout",
     "output_type": "stream",
     "text": [
      "mangoes price is 90.00 rupees\n"
     ]
    }
   ],
   "source": [
    "print(\"mangoes price is {price:.2f} rupees\".format(price = 90))"
   ]
  },
  {
   "cell_type": "markdown",
   "id": "68a4097d",
   "metadata": {},
   "source": [
    "###### index()"
   ]
  },
  {
   "cell_type": "code",
   "execution_count": 46,
   "id": "a68f19f9",
   "metadata": {},
   "outputs": [],
   "source": [
    "text1 = \"number1234\""
   ]
  },
  {
   "cell_type": "code",
   "execution_count": 47,
   "id": "df7ee012",
   "metadata": {},
   "outputs": [
    {
     "data": {
      "text/plain": [
       "6"
      ]
     },
     "execution_count": 47,
     "metadata": {},
     "output_type": "execute_result"
    }
   ],
   "source": [
    "text1.index('1')"
   ]
  },
  {
   "cell_type": "markdown",
   "id": "6956f940",
   "metadata": {},
   "source": [
    "###### isalnum()"
   ]
  },
  {
   "cell_type": "code",
   "execution_count": 48,
   "id": "b5f6c262",
   "metadata": {},
   "outputs": [
    {
     "data": {
      "text/plain": [
       "True"
      ]
     },
     "execution_count": 48,
     "metadata": {},
     "output_type": "execute_result"
    }
   ],
   "source": [
    "text1.isalnum()"
   ]
  },
  {
   "cell_type": "markdown",
   "id": "8899a83f",
   "metadata": {},
   "source": [
    "###### isalpha()"
   ]
  },
  {
   "cell_type": "code",
   "execution_count": 49,
   "id": "1665cae2",
   "metadata": {},
   "outputs": [
    {
     "data": {
      "text/plain": [
       "False"
      ]
     },
     "execution_count": 49,
     "metadata": {},
     "output_type": "execute_result"
    }
   ],
   "source": [
    "text1.isalpha()"
   ]
  },
  {
   "cell_type": "markdown",
   "id": "4db52f4c",
   "metadata": {},
   "source": [
    "###### isascii()"
   ]
  },
  {
   "cell_type": "code",
   "execution_count": 50,
   "id": "c6844c55",
   "metadata": {},
   "outputs": [
    {
     "data": {
      "text/plain": [
       "True"
      ]
     },
     "execution_count": 50,
     "metadata": {},
     "output_type": "execute_result"
    }
   ],
   "source": [
    "text1.isascii()"
   ]
  },
  {
   "cell_type": "markdown",
   "id": "523240df",
   "metadata": {},
   "source": [
    "###### isdecimal()"
   ]
  },
  {
   "cell_type": "code",
   "execution_count": 51,
   "id": "bf8dc139",
   "metadata": {},
   "outputs": [
    {
     "data": {
      "text/plain": [
       "False"
      ]
     },
     "execution_count": 51,
     "metadata": {},
     "output_type": "execute_result"
    }
   ],
   "source": [
    "text1.isdecimal()"
   ]
  },
  {
   "cell_type": "markdown",
   "id": "8879ff37",
   "metadata": {},
   "source": [
    "###### isdigit()"
   ]
  },
  {
   "cell_type": "code",
   "execution_count": 52,
   "id": "4375bc79",
   "metadata": {},
   "outputs": [],
   "source": [
    "text2 = \"8657890\""
   ]
  },
  {
   "cell_type": "code",
   "execution_count": 53,
   "id": "2102a00d",
   "metadata": {},
   "outputs": [
    {
     "data": {
      "text/plain": [
       "True"
      ]
     },
     "execution_count": 53,
     "metadata": {},
     "output_type": "execute_result"
    }
   ],
   "source": [
    "text2.isdigit()"
   ]
  },
  {
   "cell_type": "markdown",
   "id": "301284c5",
   "metadata": {},
   "source": [
    "###### isidentifier()"
   ]
  },
  {
   "cell_type": "code",
   "execution_count": 54,
   "id": "d27bf816",
   "metadata": {},
   "outputs": [
    {
     "data": {
      "text/plain": [
       "True"
      ]
     },
     "execution_count": 54,
     "metadata": {},
     "output_type": "execute_result"
    }
   ],
   "source": [
    "text1.isidentifier()"
   ]
  },
  {
   "cell_type": "code",
   "execution_count": 56,
   "id": "75a611e7",
   "metadata": {},
   "outputs": [
    {
     "data": {
      "text/plain": [
       "False"
      ]
     },
     "execution_count": 56,
     "metadata": {},
     "output_type": "execute_result"
    }
   ],
   "source": [
    "text2.isidentifier()     #A valid identifier cannot start with a number, or contain any spaces."
   ]
  },
  {
   "cell_type": "markdown",
   "id": "53ff6ae0",
   "metadata": {},
   "source": [
    "###### islower()"
   ]
  },
  {
   "cell_type": "code",
   "execution_count": 57,
   "id": "6f1707ff",
   "metadata": {},
   "outputs": [
    {
     "data": {
      "text/plain": [
       "True"
      ]
     },
     "execution_count": 57,
     "metadata": {},
     "output_type": "execute_result"
    }
   ],
   "source": [
    "text1.islower()"
   ]
  },
  {
   "cell_type": "markdown",
   "id": "e7c7c271",
   "metadata": {},
   "source": [
    "###### isnumeric()"
   ]
  },
  {
   "cell_type": "code",
   "execution_count": 58,
   "id": "dbba3f8f",
   "metadata": {},
   "outputs": [
    {
     "data": {
      "text/plain": [
       "False"
      ]
     },
     "execution_count": 58,
     "metadata": {},
     "output_type": "execute_result"
    }
   ],
   "source": [
    "text1.isnumeric()"
   ]
  },
  {
   "cell_type": "code",
   "execution_count": 59,
   "id": "7fe42ffb",
   "metadata": {},
   "outputs": [
    {
     "data": {
      "text/plain": [
       "True"
      ]
     },
     "execution_count": 59,
     "metadata": {},
     "output_type": "execute_result"
    }
   ],
   "source": [
    "text2.isnumeric()"
   ]
  },
  {
   "cell_type": "markdown",
   "id": "6746f55b",
   "metadata": {},
   "source": [
    "###### isprintable()   Doubt: where to use??"
   ]
  },
  {
   "cell_type": "markdown",
   "id": "b6ec21bb",
   "metadata": {},
   "source": [
    "###### isspace()"
   ]
  },
  {
   "cell_type": "code",
   "execution_count": 60,
   "id": "a6a5482f",
   "metadata": {},
   "outputs": [],
   "source": [
    "text3 = \"        \""
   ]
  },
  {
   "cell_type": "code",
   "execution_count": 61,
   "id": "2d61f3cd",
   "metadata": {},
   "outputs": [
    {
     "data": {
      "text/plain": [
       "False"
      ]
     },
     "execution_count": 61,
     "metadata": {},
     "output_type": "execute_result"
    }
   ],
   "source": [
    "text1.isspace()"
   ]
  },
  {
   "cell_type": "code",
   "execution_count": 62,
   "id": "fbcadc47",
   "metadata": {},
   "outputs": [
    {
     "data": {
      "text/plain": [
       "True"
      ]
     },
     "execution_count": 62,
     "metadata": {},
     "output_type": "execute_result"
    }
   ],
   "source": [
    "text3.isspace()"
   ]
  },
  {
   "cell_type": "markdown",
   "id": "326e5d93",
   "metadata": {},
   "source": [
    "###### istitle()"
   ]
  },
  {
   "cell_type": "code",
   "execution_count": 63,
   "id": "1e21a485",
   "metadata": {},
   "outputs": [],
   "source": [
    "text4 = \"This Is Python Learning Tutorial\""
   ]
  },
  {
   "cell_type": "code",
   "execution_count": 64,
   "id": "b1ed3292",
   "metadata": {},
   "outputs": [
    {
     "data": {
      "text/plain": [
       "True"
      ]
     },
     "execution_count": 64,
     "metadata": {},
     "output_type": "execute_result"
    }
   ],
   "source": [
    "text4.istitle()    #1st letter of each word has to be capital followed by small letters."
   ]
  },
  {
   "cell_type": "code",
   "execution_count": 65,
   "id": "47e4050e",
   "metadata": {},
   "outputs": [
    {
     "data": {
      "text/plain": [
       "False"
      ]
     },
     "execution_count": 65,
     "metadata": {},
     "output_type": "execute_result"
    }
   ],
   "source": [
    "text1.istitle()"
   ]
  },
  {
   "cell_type": "code",
   "execution_count": 70,
   "id": "d7102f3b",
   "metadata": {},
   "outputs": [],
   "source": [
    "text5 = \"ALL LETTERS ARE CAPITAL\""
   ]
  },
  {
   "cell_type": "code",
   "execution_count": 72,
   "id": "677967a2",
   "metadata": {},
   "outputs": [
    {
     "data": {
      "text/plain": [
       "False"
      ]
     },
     "execution_count": 72,
     "metadata": {},
     "output_type": "execute_result"
    }
   ],
   "source": [
    "text5.istitle()"
   ]
  },
  {
   "cell_type": "markdown",
   "id": "c11e6789",
   "metadata": {},
   "source": [
    "###### isupper()"
   ]
  },
  {
   "cell_type": "code",
   "execution_count": 73,
   "id": "a43ef79a",
   "metadata": {},
   "outputs": [
    {
     "data": {
      "text/plain": [
       "False"
      ]
     },
     "execution_count": 73,
     "metadata": {},
     "output_type": "execute_result"
    }
   ],
   "source": [
    "text4.isupper()"
   ]
  },
  {
   "cell_type": "code",
   "execution_count": 74,
   "id": "6e3fbeb3",
   "metadata": {},
   "outputs": [
    {
     "data": {
      "text/plain": [
       "True"
      ]
     },
     "execution_count": 74,
     "metadata": {},
     "output_type": "execute_result"
    }
   ],
   "source": [
    "text5.isupper()"
   ]
  },
  {
   "cell_type": "markdown",
   "id": "6029bff1",
   "metadata": {},
   "source": [
    "###### join()"
   ]
  },
  {
   "cell_type": "code",
   "execution_count": 131,
   "id": "bb00613d",
   "metadata": {},
   "outputs": [],
   "source": [
    "text6 = \"a\",\"b\",\"c\",\"d\""
   ]
  },
  {
   "cell_type": "code",
   "execution_count": 132,
   "id": "528c4c69",
   "metadata": {},
   "outputs": [
    {
     "data": {
      "text/plain": [
       "('a', 'b', 'c', 'd')"
      ]
     },
     "execution_count": 132,
     "metadata": {},
     "output_type": "execute_result"
    }
   ],
   "source": [
    "text6"
   ]
  },
  {
   "cell_type": "code",
   "execution_count": 133,
   "id": "30d0ab5e",
   "metadata": {},
   "outputs": [
    {
     "data": {
      "text/plain": [
       "'a-b-c-d'"
      ]
     },
     "execution_count": 133,
     "metadata": {},
     "output_type": "execute_result"
    }
   ],
   "source": [
    "\"-\".join(text6)"
   ]
  },
  {
   "cell_type": "code",
   "execution_count": 159,
   "id": "cc62718c",
   "metadata": {},
   "outputs": [
    {
     "ename": "AttributeError",
     "evalue": "'tuple' object has no attribute 'join'",
     "output_type": "error",
     "traceback": [
      "\u001b[1;31m---------------------------------------------------------------------------\u001b[0m",
      "\u001b[1;31mAttributeError\u001b[0m                            Traceback (most recent call last)",
      "\u001b[1;32m<ipython-input-159-1cc9fe472246>\u001b[0m in \u001b[0;36m<module>\u001b[1;34m\u001b[0m\n\u001b[1;32m----> 1\u001b[1;33m \u001b[0mtext6\u001b[0m\u001b[1;33m.\u001b[0m\u001b[0mjoin\u001b[0m\u001b[1;33m(\u001b[0m\u001b[1;34m\"-\"\u001b[0m\u001b[1;33m)\u001b[0m                                                               \u001b[1;31m#  Why it is not working?\u001b[0m\u001b[1;33m\u001b[0m\u001b[1;33m\u001b[0m\u001b[0m\n\u001b[0m",
      "\u001b[1;31mAttributeError\u001b[0m: 'tuple' object has no attribute 'join'"
     ]
    }
   ],
   "source": [
    "text6.join(\"-\")                                                               #  Why it is not working?"
   ]
  },
  {
   "cell_type": "markdown",
   "id": "adc84016",
   "metadata": {},
   "source": [
    "###### ljust()"
   ]
  },
  {
   "cell_type": "code",
   "execution_count": 89,
   "id": "d9c5c779",
   "metadata": {},
   "outputs": [
    {
     "data": {
      "text/plain": [
       "'number1234'"
      ]
     },
     "execution_count": 89,
     "metadata": {},
     "output_type": "execute_result"
    }
   ],
   "source": [
    "text1"
   ]
  },
  {
   "cell_type": "code",
   "execution_count": 90,
   "id": "d4abd697",
   "metadata": {},
   "outputs": [
    {
     "data": {
      "text/plain": [
       "'8657890'"
      ]
     },
     "execution_count": 90,
     "metadata": {},
     "output_type": "execute_result"
    }
   ],
   "source": [
    "text2"
   ]
  },
  {
   "cell_type": "code",
   "execution_count": 91,
   "id": "690f4317",
   "metadata": {
    "scrolled": true
   },
   "outputs": [
    {
     "name": "stdout",
     "output_type": "stream",
     "text": [
      "number1234           8657890\n"
     ]
    }
   ],
   "source": [
    "print(text1.ljust(20), text2)"
   ]
  },
  {
   "cell_type": "markdown",
   "id": "90251279",
   "metadata": {},
   "source": [
    "###### rjust()"
   ]
  },
  {
   "cell_type": "code",
   "execution_count": 117,
   "id": "02b77ca1",
   "metadata": {},
   "outputs": [
    {
     "name": "stdout",
     "output_type": "stream",
     "text": [
      "          number1234 8657890\n"
     ]
    }
   ],
   "source": [
    "print(text1.rjust(20), text2)"
   ]
  },
  {
   "cell_type": "markdown",
   "id": "6c2fb6ee",
   "metadata": {},
   "source": [
    "###### lower()"
   ]
  },
  {
   "cell_type": "code",
   "execution_count": 92,
   "id": "d6d8fd9a",
   "metadata": {},
   "outputs": [
    {
     "data": {
      "text/plain": [
       "'ALL LETTERS ARE CAPITAL'"
      ]
     },
     "execution_count": 92,
     "metadata": {},
     "output_type": "execute_result"
    }
   ],
   "source": [
    "text5"
   ]
  },
  {
   "cell_type": "code",
   "execution_count": 94,
   "id": "4ff497ba",
   "metadata": {},
   "outputs": [
    {
     "data": {
      "text/plain": [
       "'all letters are capital'"
      ]
     },
     "execution_count": 94,
     "metadata": {},
     "output_type": "execute_result"
    }
   ],
   "source": [
    "text5.lower()"
   ]
  },
  {
   "cell_type": "markdown",
   "id": "2007f949",
   "metadata": {},
   "source": [
    "###### upper()"
   ]
  },
  {
   "cell_type": "code",
   "execution_count": 155,
   "id": "7ab864ce",
   "metadata": {},
   "outputs": [
    {
     "data": {
      "text/plain": [
       "'This Is Python Learning Tutorial'"
      ]
     },
     "execution_count": 155,
     "metadata": {},
     "output_type": "execute_result"
    }
   ],
   "source": [
    "text4"
   ]
  },
  {
   "cell_type": "code",
   "execution_count": 156,
   "id": "b9ee97f0",
   "metadata": {},
   "outputs": [
    {
     "data": {
      "text/plain": [
       "'THIS IS PYTHON LEARNING TUTORIAL'"
      ]
     },
     "execution_count": 156,
     "metadata": {},
     "output_type": "execute_result"
    }
   ],
   "source": [
    "text4.upper()"
   ]
  },
  {
   "cell_type": "markdown",
   "id": "c04eb240",
   "metadata": {},
   "source": [
    "###### lstrip()"
   ]
  },
  {
   "cell_type": "code",
   "execution_count": 95,
   "id": "27a5412e",
   "metadata": {},
   "outputs": [],
   "source": [
    "text7 = \"              abcd           \""
   ]
  },
  {
   "cell_type": "code",
   "execution_count": 96,
   "id": "f3e8083e",
   "metadata": {},
   "outputs": [
    {
     "data": {
      "text/plain": [
       "'abcd           '"
      ]
     },
     "execution_count": 96,
     "metadata": {},
     "output_type": "execute_result"
    }
   ],
   "source": [
    "text7.lstrip()"
   ]
  },
  {
   "cell_type": "markdown",
   "id": "3a977c93",
   "metadata": {},
   "source": [
    "###### rstrip()"
   ]
  },
  {
   "cell_type": "code",
   "execution_count": 97,
   "id": "32167adc",
   "metadata": {},
   "outputs": [
    {
     "data": {
      "text/plain": [
       "'              abcd'"
      ]
     },
     "execution_count": 97,
     "metadata": {},
     "output_type": "execute_result"
    }
   ],
   "source": [
    "text7.rstrip()"
   ]
  },
  {
   "cell_type": "code",
   "execution_count": 148,
   "id": "6dc3faca",
   "metadata": {},
   "outputs": [
    {
     "data": {
      "text/plain": [
       "'abcd'"
      ]
     },
     "execution_count": 148,
     "metadata": {},
     "output_type": "execute_result"
    }
   ],
   "source": [
    "text7.strip()"
   ]
  },
  {
   "cell_type": "markdown",
   "id": "ca0c9035",
   "metadata": {},
   "source": [
    "###### maketrans() and translate()"
   ]
  },
  {
   "cell_type": "code",
   "execution_count": 98,
   "id": "3db76879",
   "metadata": {},
   "outputs": [
    {
     "data": {
      "text/plain": [
       "'ALL LETTERS ARE CAPITAL'"
      ]
     },
     "execution_count": 98,
     "metadata": {},
     "output_type": "execute_result"
    }
   ],
   "source": [
    "text5"
   ]
  },
  {
   "cell_type": "code",
   "execution_count": 106,
   "id": "7f82b0d1",
   "metadata": {},
   "outputs": [],
   "source": [
    "x = text5.maketrans(\"A\", \"X\")"
   ]
  },
  {
   "cell_type": "code",
   "execution_count": 108,
   "id": "cd2bd245",
   "metadata": {},
   "outputs": [
    {
     "data": {
      "text/plain": [
       "{65: 88}"
      ]
     },
     "execution_count": 108,
     "metadata": {},
     "output_type": "execute_result"
    }
   ],
   "source": [
    "x"
   ]
  },
  {
   "cell_type": "code",
   "execution_count": 107,
   "id": "25962a04",
   "metadata": {},
   "outputs": [
    {
     "data": {
      "text/plain": [
       "'XLL LETTERS XRE CXPITXL'"
      ]
     },
     "execution_count": 107,
     "metadata": {},
     "output_type": "execute_result"
    }
   ],
   "source": [
    "text5.translate(x)"
   ]
  },
  {
   "cell_type": "markdown",
   "id": "606c0af5",
   "metadata": {},
   "source": [
    "###### partition()"
   ]
  },
  {
   "cell_type": "code",
   "execution_count": 109,
   "id": "98eba7ce",
   "metadata": {},
   "outputs": [
    {
     "data": {
      "text/plain": [
       "'ALL LETTERS ARE CAPITAL'"
      ]
     },
     "execution_count": 109,
     "metadata": {},
     "output_type": "execute_result"
    }
   ],
   "source": [
    "text5"
   ]
  },
  {
   "cell_type": "code",
   "execution_count": 110,
   "id": "de77907b",
   "metadata": {},
   "outputs": [
    {
     "data": {
      "text/plain": [
       "('ALL LETTERS ', 'ARE', ' CAPITAL')"
      ]
     },
     "execution_count": 110,
     "metadata": {},
     "output_type": "execute_result"
    }
   ],
   "source": [
    "text5.partition('ARE')"
   ]
  },
  {
   "cell_type": "markdown",
   "id": "69993355",
   "metadata": {},
   "source": [
    "###### replace()"
   ]
  },
  {
   "cell_type": "code",
   "execution_count": 111,
   "id": "26318880",
   "metadata": {},
   "outputs": [
    {
     "data": {
      "text/plain": [
       "'ALL LETTERS ARE CAPITAL'"
      ]
     },
     "execution_count": 111,
     "metadata": {},
     "output_type": "execute_result"
    }
   ],
   "source": [
    "text5"
   ]
  },
  {
   "cell_type": "code",
   "execution_count": 112,
   "id": "021a35cb",
   "metadata": {},
   "outputs": [
    {
     "data": {
      "text/plain": [
       "'some LETTERS ARE CAPITAL'"
      ]
     },
     "execution_count": 112,
     "metadata": {},
     "output_type": "execute_result"
    }
   ],
   "source": [
    "text5.replace('ALL', 'some')"
   ]
  },
  {
   "cell_type": "markdown",
   "id": "534c0888",
   "metadata": {},
   "source": [
    "###### rfind()"
   ]
  },
  {
   "cell_type": "code",
   "execution_count": 113,
   "id": "06ed2711",
   "metadata": {},
   "outputs": [
    {
     "data": {
      "text/plain": [
       "12"
      ]
     },
     "execution_count": 113,
     "metadata": {},
     "output_type": "execute_result"
    }
   ],
   "source": [
    "text5.rfind('ARE')"
   ]
  },
  {
   "cell_type": "code",
   "execution_count": 114,
   "id": "70e76dee",
   "metadata": {},
   "outputs": [
    {
     "data": {
      "text/plain": [
       "21"
      ]
     },
     "execution_count": 114,
     "metadata": {},
     "output_type": "execute_result"
    }
   ],
   "source": [
    "text5.rfind('A')"
   ]
  },
  {
   "cell_type": "markdown",
   "id": "76437b6b",
   "metadata": {},
   "source": [
    "###### rindex()              ..............Doubt: What is the difference between rfind() and rindex()"
   ]
  },
  {
   "cell_type": "code",
   "execution_count": 115,
   "id": "e40f1fba",
   "metadata": {},
   "outputs": [
    {
     "data": {
      "text/plain": [
       "12"
      ]
     },
     "execution_count": 115,
     "metadata": {},
     "output_type": "execute_result"
    }
   ],
   "source": [
    "text5.rindex('ARE')"
   ]
  },
  {
   "cell_type": "code",
   "execution_count": 116,
   "id": "7cd0e2e9",
   "metadata": {},
   "outputs": [
    {
     "data": {
      "text/plain": [
       "21"
      ]
     },
     "execution_count": 116,
     "metadata": {},
     "output_type": "execute_result"
    }
   ],
   "source": [
    "text5.rindex('A')"
   ]
  },
  {
   "cell_type": "markdown",
   "id": "9be941af",
   "metadata": {},
   "source": [
    "###### rpartition()"
   ]
  },
  {
   "cell_type": "code",
   "execution_count": 121,
   "id": "d29f188a",
   "metadata": {},
   "outputs": [],
   "source": [
    "text8 = 'bca bcd ab cb cbh dbc ab dnh bca'"
   ]
  },
  {
   "cell_type": "code",
   "execution_count": 122,
   "id": "54f87582",
   "metadata": {},
   "outputs": [
    {
     "data": {
      "text/plain": [
       "('bca bcd ab cb cbh dbc ', 'ab', ' dnh bca')"
      ]
     },
     "execution_count": 122,
     "metadata": {},
     "output_type": "execute_result"
    }
   ],
   "source": [
    "text8.rpartition('ab')                        # rpartition() takes right most word for spliting the string into 3 parts."
   ]
  },
  {
   "cell_type": "code",
   "execution_count": 123,
   "id": "ab3fdc6c",
   "metadata": {},
   "outputs": [
    {
     "data": {
      "text/plain": [
       "('bca bcd ', 'ab', ' cb cbh dbc ab dnh bca')"
      ]
     },
     "execution_count": 123,
     "metadata": {},
     "output_type": "execute_result"
    }
   ],
   "source": [
    "text8.partition('ab')                         # partition() takes left most word for spliting the string into 3 parts."
   ]
  },
  {
   "cell_type": "markdown",
   "id": "deacda95",
   "metadata": {},
   "source": [
    "###### rsplit()"
   ]
  },
  {
   "cell_type": "code",
   "execution_count": 138,
   "id": "5a7ed2da",
   "metadata": {},
   "outputs": [
    {
     "data": {
      "text/plain": [
       "'bca bcd ab cb cbh dbc ab dnh bca'"
      ]
     },
     "execution_count": 138,
     "metadata": {},
     "output_type": "execute_result"
    }
   ],
   "source": [
    "text8"
   ]
  },
  {
   "cell_type": "code",
   "execution_count": 140,
   "id": "5f712877",
   "metadata": {},
   "outputs": [
    {
     "data": {
      "text/plain": [
       "['bca bcd ab cb cbh dbc ab', 'dnh', 'bca']"
      ]
     },
     "execution_count": 140,
     "metadata": {},
     "output_type": "execute_result"
    }
   ],
   "source": [
    "text8.rsplit(\" \", 2)"
   ]
  },
  {
   "cell_type": "markdown",
   "id": "bae7b41e",
   "metadata": {},
   "source": [
    "###### split()"
   ]
  },
  {
   "cell_type": "code",
   "execution_count": 141,
   "id": "95fb6497",
   "metadata": {},
   "outputs": [
    {
     "data": {
      "text/plain": [
       "['bca', 'bcd', 'ab cb cbh dbc ab dnh bca']"
      ]
     },
     "execution_count": 141,
     "metadata": {},
     "output_type": "execute_result"
    }
   ],
   "source": [
    "text8.split(\" \", 2)"
   ]
  },
  {
   "cell_type": "markdown",
   "id": "95bbb156",
   "metadata": {},
   "source": [
    "###### splitlines()"
   ]
  },
  {
   "cell_type": "code",
   "execution_count": 142,
   "id": "8dbc4e90",
   "metadata": {},
   "outputs": [],
   "source": [
    "text9 = \"hello \\nwelcome\""
   ]
  },
  {
   "cell_type": "code",
   "execution_count": 143,
   "id": "1844d1b4",
   "metadata": {},
   "outputs": [
    {
     "data": {
      "text/plain": [
       "['hello ', 'welcome']"
      ]
     },
     "execution_count": 143,
     "metadata": {},
     "output_type": "execute_result"
    }
   ],
   "source": [
    "text9.splitlines()"
   ]
  },
  {
   "cell_type": "markdown",
   "id": "46270e6f",
   "metadata": {},
   "source": [
    "###### startswith()"
   ]
  },
  {
   "cell_type": "code",
   "execution_count": 144,
   "id": "f527cb30",
   "metadata": {},
   "outputs": [
    {
     "data": {
      "text/plain": [
       "'This Is Python Learning Tutorial'"
      ]
     },
     "execution_count": 144,
     "metadata": {},
     "output_type": "execute_result"
    }
   ],
   "source": [
    "text4"
   ]
  },
  {
   "cell_type": "code",
   "execution_count": 145,
   "id": "20bd3a0c",
   "metadata": {},
   "outputs": [
    {
     "data": {
      "text/plain": [
       "False"
      ]
     },
     "execution_count": 145,
     "metadata": {},
     "output_type": "execute_result"
    }
   ],
   "source": [
    "text4.startswith('ALL')"
   ]
  },
  {
   "cell_type": "code",
   "execution_count": 146,
   "id": "8946445c",
   "metadata": {},
   "outputs": [
    {
     "data": {
      "text/plain": [
       "True"
      ]
     },
     "execution_count": 146,
     "metadata": {},
     "output_type": "execute_result"
    }
   ],
   "source": [
    "text5.startswith('ALL')"
   ]
  },
  {
   "cell_type": "code",
   "execution_count": 147,
   "id": "bed7cba4",
   "metadata": {},
   "outputs": [
    {
     "data": {
      "text/plain": [
       "'ALL LETTERS ARE CAPITAL'"
      ]
     },
     "execution_count": 147,
     "metadata": {},
     "output_type": "execute_result"
    }
   ],
   "source": [
    "text5"
   ]
  },
  {
   "cell_type": "markdown",
   "id": "c8679413",
   "metadata": {},
   "source": [
    "###### swapcase()"
   ]
  },
  {
   "cell_type": "code",
   "execution_count": 149,
   "id": "3aff332d",
   "metadata": {},
   "outputs": [
    {
     "data": {
      "text/plain": [
       "'This Is Python Learning Tutorial'"
      ]
     },
     "execution_count": 149,
     "metadata": {},
     "output_type": "execute_result"
    }
   ],
   "source": [
    "text4"
   ]
  },
  {
   "cell_type": "code",
   "execution_count": 150,
   "id": "5a28c7d5",
   "metadata": {},
   "outputs": [
    {
     "data": {
      "text/plain": [
       "'tHIS iS pYTHON lEARNING tUTORIAL'"
      ]
     },
     "execution_count": 150,
     "metadata": {},
     "output_type": "execute_result"
    }
   ],
   "source": [
    "text4.swapcase()"
   ]
  },
  {
   "cell_type": "code",
   "execution_count": 151,
   "id": "c888fb7c",
   "metadata": {},
   "outputs": [
    {
     "data": {
      "text/plain": [
       "'ALL LETTERS ARE CAPITAL'"
      ]
     },
     "execution_count": 151,
     "metadata": {},
     "output_type": "execute_result"
    }
   ],
   "source": [
    "text5"
   ]
  },
  {
   "cell_type": "code",
   "execution_count": 152,
   "id": "6c993a7e",
   "metadata": {},
   "outputs": [
    {
     "data": {
      "text/plain": [
       "'all letters are capital'"
      ]
     },
     "execution_count": 152,
     "metadata": {},
     "output_type": "execute_result"
    }
   ],
   "source": [
    "text5.swapcase()"
   ]
  },
  {
   "cell_type": "markdown",
   "id": "93f62524",
   "metadata": {},
   "source": [
    "###### title()"
   ]
  },
  {
   "cell_type": "code",
   "execution_count": 153,
   "id": "ffee9973",
   "metadata": {},
   "outputs": [
    {
     "data": {
      "text/plain": [
       "'ALL LETTERS ARE CAPITAL'"
      ]
     },
     "execution_count": 153,
     "metadata": {},
     "output_type": "execute_result"
    }
   ],
   "source": [
    "text5"
   ]
  },
  {
   "cell_type": "code",
   "execution_count": 154,
   "id": "ae50860f",
   "metadata": {},
   "outputs": [
    {
     "data": {
      "text/plain": [
       "'All Letters Are Capital'"
      ]
     },
     "execution_count": 154,
     "metadata": {},
     "output_type": "execute_result"
    }
   ],
   "source": [
    "text5.title()"
   ]
  },
  {
   "cell_type": "markdown",
   "id": "4bbc08f2",
   "metadata": {},
   "source": [
    "###### zfill()"
   ]
  },
  {
   "cell_type": "code",
   "execution_count": 157,
   "id": "1e60a646",
   "metadata": {},
   "outputs": [
    {
     "data": {
      "text/plain": [
       "'8657890'"
      ]
     },
     "execution_count": 157,
     "metadata": {},
     "output_type": "execute_result"
    }
   ],
   "source": [
    "text2"
   ]
  },
  {
   "cell_type": "code",
   "execution_count": 158,
   "id": "393695ef",
   "metadata": {},
   "outputs": [
    {
     "data": {
      "text/plain": [
       "'0008657890'"
      ]
     },
     "execution_count": 158,
     "metadata": {},
     "output_type": "execute_result"
    }
   ],
   "source": [
    "text2.zfill(10)"
   ]
  }
 ],
 "metadata": {
  "kernelspec": {
   "display_name": "Python 3",
   "language": "python",
   "name": "python3"
  },
  "language_info": {
   "codemirror_mode": {
    "name": "ipython",
    "version": 3
   },
   "file_extension": ".py",
   "mimetype": "text/x-python",
   "name": "python",
   "nbconvert_exporter": "python",
   "pygments_lexer": "ipython3",
   "version": "3.8.8"
  }
 },
 "nbformat": 4,
 "nbformat_minor": 5
}
